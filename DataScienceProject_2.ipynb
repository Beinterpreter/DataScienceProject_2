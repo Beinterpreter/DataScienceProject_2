{
  "cells": [
    {
      "cell_type": "markdown",
      "id": "42289889-bd57-434e-9637-d3e354756316",
      "metadata": {
        "id": "42289889-bd57-434e-9637-d3e354756316"
      },
      "source": [
        "<center> <img src = https://raw.githubusercontent.com/AndreyRysistov/DatasetsForPandas/main/hh%20label.jpg alt=\"drawing\" style=\"width:400px;\">"
      ]
    },
    {
      "cell_type": "markdown",
      "id": "829cb75b-f14e-4ba8-9195-7ba929a7d656",
      "metadata": {
        "id": "829cb75b-f14e-4ba8-9195-7ba929a7d656",
        "tags": []
      },
      "source": [
        "# <center> Проект: Анализ вакансий из HeadHunter\n",
        "   "
      ]
    },
    {
      "cell_type": "code",
      "execution_count": 14,
      "id": "dccfde33-2452-43fb-a8a5-5c6ebc02a71d",
      "metadata": {
        "id": "dccfde33-2452-43fb-a8a5-5c6ebc02a71d"
      },
      "outputs": [],
      "source": [
        "import pandas as pd\n",
        "import psycopg2"
      ]
    },
    {
      "cell_type": "code",
      "execution_count": 16,
      "id": "G4X_q8KBf7SF",
      "metadata": {
        "id": "G4X_q8KBf7SF"
      },
      "outputs": [],
      "source": [
        "connection = psycopg2.connect(\n",
        "    dbname=DBNAME,\n",
        "    user=USER,\n",
        "    host=HOST,\n",
        "    password=PASSWORD,\n",
        "    port=PORT\n",
        ")"
      ]
    },
    {
      "cell_type": "markdown",
      "id": "0dc6476b-7a00-44f1-ac93-6e3baed33a29",
      "metadata": {
        "id": "0dc6476b-7a00-44f1-ac93-6e3baed33a29"
      },
      "source": [
        "# Юнит 3. Предварительный анализ данных"
      ]
    },
    {
      "cell_type": "markdown",
      "id": "889782b6-8d1c-410e-8920-e57f27917c64",
      "metadata": {
        "id": "889782b6-8d1c-410e-8920-e57f27917c64"
      },
      "source": [
        "1. Напишите запрос, который посчитает количество вакансий в нашей базе (вакансии находятся в таблице vacancies). "
      ]
    },
    {
      "cell_type": "code",
      "execution_count": 74,
      "id": "bc39e68e-ed02-4ee2-9235-7258a2f867a8",
      "metadata": {
        "id": "bc39e68e-ed02-4ee2-9235-7258a2f867a8"
      },
      "outputs": [],
      "source": [
        "# текст запроса\n",
        "query_3_1 = f'''select count(id) as vacancies_quantity\n",
        "                from public.vacancies\n",
        "            '''"
      ]
    },
    {
      "cell_type": "code",
      "execution_count": 75,
      "id": "7mAwtsk4hEHY",
      "metadata": {
        "id": "7mAwtsk4hEHY"
      },
      "outputs": [
        {
          "name": "stderr",
          "output_type": "stream",
          "text": [
            "/var/folders/n5/r5jp_9sj3wd999vy8hwphb2c0000gn/T/ipykernel_1162/3938827480.py:2: UserWarning: pandas only supports SQLAlchemy connectable (engine/connection) or database string URI or sqlite3 DBAPI2 connection. Other DBAPI2 objects are not tested. Please consider using SQLAlchemy.\n",
            "  vacancies_count = pd.read_sql_query(query_3_1, connection)\n"
          ]
        },
        {
          "data": {
            "text/html": [
              "<div>\n",
              "<style scoped>\n",
              "    .dataframe tbody tr th:only-of-type {\n",
              "        vertical-align: middle;\n",
              "    }\n",
              "\n",
              "    .dataframe tbody tr th {\n",
              "        vertical-align: top;\n",
              "    }\n",
              "\n",
              "    .dataframe thead th {\n",
              "        text-align: right;\n",
              "    }\n",
              "</style>\n",
              "<table border=\"1\" class=\"dataframe\">\n",
              "  <thead>\n",
              "    <tr style=\"text-align: right;\">\n",
              "      <th></th>\n",
              "      <th>vacancies_quantity</th>\n",
              "    </tr>\n",
              "  </thead>\n",
              "  <tbody>\n",
              "    <tr>\n",
              "      <th>0</th>\n",
              "      <td>49197</td>\n",
              "    </tr>\n",
              "  </tbody>\n",
              "</table>\n",
              "</div>"
            ],
            "text/plain": [
              "   vacancies_quantity\n",
              "0               49197"
            ]
          },
          "execution_count": 75,
          "metadata": {},
          "output_type": "execute_result"
        }
      ],
      "source": [
        "# результат запроса\n",
        "vacancies_count = pd.read_sql_query(query_3_1, connection)\n",
        "\n",
        "vacancies_count"
      ]
    },
    {
      "cell_type": "markdown",
      "id": "b583485d-1f9e-494e-ada4-80ffff7c53d6",
      "metadata": {
        "id": "b583485d-1f9e-494e-ada4-80ffff7c53d6"
      },
      "source": [
        "2. Напишите запрос, который посчитает количество работодателей (таблица employers). "
      ]
    },
    {
      "cell_type": "code",
      "execution_count": 76,
      "id": "5408c52c-3407-4a63-b25b-1aafa2322d28",
      "metadata": {
        "id": "5408c52c-3407-4a63-b25b-1aafa2322d28"
      },
      "outputs": [],
      "source": [
        "# текст запроса\n",
        "query_3_2 = f'''select count(id) as employers_quantity\n",
        "                from public.employers\n",
        "            '''"
      ]
    },
    {
      "cell_type": "code",
      "execution_count": 77,
      "id": "jVL4eshKhdqc",
      "metadata": {
        "id": "jVL4eshKhdqc"
      },
      "outputs": [
        {
          "name": "stderr",
          "output_type": "stream",
          "text": [
            "/var/folders/n5/r5jp_9sj3wd999vy8hwphb2c0000gn/T/ipykernel_1162/3707284126.py:2: UserWarning: pandas only supports SQLAlchemy connectable (engine/connection) or database string URI or sqlite3 DBAPI2 connection. Other DBAPI2 objects are not tested. Please consider using SQLAlchemy.\n",
            "  employers_count = pd.read_sql_query(query_3_2, connection)\n"
          ]
        },
        {
          "data": {
            "text/html": [
              "<div>\n",
              "<style scoped>\n",
              "    .dataframe tbody tr th:only-of-type {\n",
              "        vertical-align: middle;\n",
              "    }\n",
              "\n",
              "    .dataframe tbody tr th {\n",
              "        vertical-align: top;\n",
              "    }\n",
              "\n",
              "    .dataframe thead th {\n",
              "        text-align: right;\n",
              "    }\n",
              "</style>\n",
              "<table border=\"1\" class=\"dataframe\">\n",
              "  <thead>\n",
              "    <tr style=\"text-align: right;\">\n",
              "      <th></th>\n",
              "      <th>employers_quantity</th>\n",
              "    </tr>\n",
              "  </thead>\n",
              "  <tbody>\n",
              "    <tr>\n",
              "      <th>0</th>\n",
              "      <td>23501</td>\n",
              "    </tr>\n",
              "  </tbody>\n",
              "</table>\n",
              "</div>"
            ],
            "text/plain": [
              "   employers_quantity\n",
              "0               23501"
            ]
          },
          "execution_count": 77,
          "metadata": {},
          "output_type": "execute_result"
        }
      ],
      "source": [
        "# результат запроса\n",
        "employers_count = pd.read_sql_query(query_3_2, connection)\n",
        "\n",
        "employers_count"
      ]
    },
    {
      "cell_type": "markdown",
      "id": "a2bfff1f-c975-4bf6-84be-2185d79dcb76",
      "metadata": {
        "id": "a2bfff1f-c975-4bf6-84be-2185d79dcb76"
      },
      "source": [
        "3. Посчитате с помощью запроса количество регионов (таблица areas)."
      ]
    },
    {
      "cell_type": "code",
      "execution_count": 78,
      "id": "1m8QJwBYhey6",
      "metadata": {
        "id": "1m8QJwBYhey6"
      },
      "outputs": [],
      "source": [
        "# текст запроса\n",
        "query_3_3 = f'''select count(id) as areas_quantity\n",
        "                from public.areas\n",
        "            '''"
      ]
    },
    {
      "cell_type": "code",
      "execution_count": 79,
      "id": "EZsn9tlfhe7f",
      "metadata": {
        "id": "EZsn9tlfhe7f"
      },
      "outputs": [
        {
          "name": "stderr",
          "output_type": "stream",
          "text": [
            "/var/folders/n5/r5jp_9sj3wd999vy8hwphb2c0000gn/T/ipykernel_1162/476315533.py:2: UserWarning: pandas only supports SQLAlchemy connectable (engine/connection) or database string URI or sqlite3 DBAPI2 connection. Other DBAPI2 objects are not tested. Please consider using SQLAlchemy.\n",
            "  areas_count = pd.read_sql_query(query_3_3, connection)\n"
          ]
        },
        {
          "data": {
            "text/html": [
              "<div>\n",
              "<style scoped>\n",
              "    .dataframe tbody tr th:only-of-type {\n",
              "        vertical-align: middle;\n",
              "    }\n",
              "\n",
              "    .dataframe tbody tr th {\n",
              "        vertical-align: top;\n",
              "    }\n",
              "\n",
              "    .dataframe thead th {\n",
              "        text-align: right;\n",
              "    }\n",
              "</style>\n",
              "<table border=\"1\" class=\"dataframe\">\n",
              "  <thead>\n",
              "    <tr style=\"text-align: right;\">\n",
              "      <th></th>\n",
              "      <th>areas_quantity</th>\n",
              "    </tr>\n",
              "  </thead>\n",
              "  <tbody>\n",
              "    <tr>\n",
              "      <th>0</th>\n",
              "      <td>1362</td>\n",
              "    </tr>\n",
              "  </tbody>\n",
              "</table>\n",
              "</div>"
            ],
            "text/plain": [
              "   areas_quantity\n",
              "0            1362"
            ]
          },
          "execution_count": 79,
          "metadata": {},
          "output_type": "execute_result"
        }
      ],
      "source": [
        "# результат запроса\n",
        "areas_count = pd.read_sql_query(query_3_3, connection)\n",
        "\n",
        "areas_count"
      ]
    },
    {
      "cell_type": "markdown",
      "id": "41bb59f3-53cc-4a67-a5bc-bedf573955e4",
      "metadata": {
        "id": "41bb59f3-53cc-4a67-a5bc-bedf573955e4"
      },
      "source": [
        "4. Посчитате с помощью запроса количество сфер деятельности в базе (таблица industries)."
      ]
    },
    {
      "cell_type": "code",
      "execution_count": 80,
      "id": "d286cf4c-707b-4cd2-9190-7ab3587d04a1",
      "metadata": {
        "id": "d286cf4c-707b-4cd2-9190-7ab3587d04a1"
      },
      "outputs": [],
      "source": [
        "# текст запроса\n",
        "query_3_4 = f'''select count(id) as industries_quantity\n",
        "                from public.industries\n",
        "            '''"
      ]
    },
    {
      "cell_type": "code",
      "execution_count": 81,
      "id": "JYAaoZ4qhfzW",
      "metadata": {
        "id": "JYAaoZ4qhfzW"
      },
      "outputs": [
        {
          "name": "stderr",
          "output_type": "stream",
          "text": [
            "/var/folders/n5/r5jp_9sj3wd999vy8hwphb2c0000gn/T/ipykernel_1162/4234093474.py:2: UserWarning: pandas only supports SQLAlchemy connectable (engine/connection) or database string URI or sqlite3 DBAPI2 connection. Other DBAPI2 objects are not tested. Please consider using SQLAlchemy.\n",
            "  industries_count = pd.read_sql_query(query_3_4, connection)\n"
          ]
        },
        {
          "data": {
            "text/html": [
              "<div>\n",
              "<style scoped>\n",
              "    .dataframe tbody tr th:only-of-type {\n",
              "        vertical-align: middle;\n",
              "    }\n",
              "\n",
              "    .dataframe tbody tr th {\n",
              "        vertical-align: top;\n",
              "    }\n",
              "\n",
              "    .dataframe thead th {\n",
              "        text-align: right;\n",
              "    }\n",
              "</style>\n",
              "<table border=\"1\" class=\"dataframe\">\n",
              "  <thead>\n",
              "    <tr style=\"text-align: right;\">\n",
              "      <th></th>\n",
              "      <th>industries_quantity</th>\n",
              "    </tr>\n",
              "  </thead>\n",
              "  <tbody>\n",
              "    <tr>\n",
              "      <th>0</th>\n",
              "      <td>294</td>\n",
              "    </tr>\n",
              "  </tbody>\n",
              "</table>\n",
              "</div>"
            ],
            "text/plain": [
              "   industries_quantity\n",
              "0                  294"
            ]
          },
          "execution_count": 81,
          "metadata": {},
          "output_type": "execute_result"
        }
      ],
      "source": [
        "# результат запроса\n",
        "industries_count = pd.read_sql_query(query_3_4, connection)\n",
        "\n",
        "industries_count"
      ]
    },
    {
      "cell_type": "markdown",
      "id": "9a8a2181-6914-448b-85f1-38f5f18b8a93",
      "metadata": {
        "id": "9a8a2181-6914-448b-85f1-38f5f18b8a93"
      },
      "source": [
        "***"
      ]
    },
    {
      "cell_type": "markdown",
      "id": "30b64e9e",
      "metadata": {},
      "source": [
        "*ВЫВОДЫ:*   \n",
        "\n",
        "*В базе данных **49197 вакансий** от **23501 работодателя**, т.е. некоторые работодатели размещают по несколько вакансий. Работодатели ищут спциалистов в **1362 регионах**. Соискатели требуются в **294 сферах деятельности.***"
      ]
    },
    {
      "cell_type": "markdown",
      "id": "8d62a9f3-f64e-4fe7-bdac-c4dffa16155e",
      "metadata": {
        "id": "8d62a9f3-f64e-4fe7-bdac-c4dffa16155e"
      },
      "source": [
        "# Юнит 4. Детальный анализ вакансий"
      ]
    },
    {
      "cell_type": "markdown",
      "id": "93053d3d-b284-481a-9cf7-012d7014c0e0",
      "metadata": {
        "id": "93053d3d-b284-481a-9cf7-012d7014c0e0"
      },
      "source": [
        "1. Напишите запрос, который позволит узнать, сколько (cnt) вакансий в каждом регионе (area).\n",
        "Отсортируйте по количеству вакансий в порядке убывания."
      ]
    },
    {
      "cell_type": "code",
      "execution_count": 82,
      "id": "3f069da6-fdc9-4ae7-b514-fafe2675efd3",
      "metadata": {
        "id": "3f069da6-fdc9-4ae7-b514-fafe2675efd3"
      },
      "outputs": [],
      "source": [
        "# текст запроса\n",
        "query_4_1 = f'''select\n",
        "                    a.name as area,\n",
        "                    count(v.id) as vacancies_cnt\n",
        "                from public.areas a\n",
        "                join public.vacancies v on a.id = v.area_id\n",
        "                group by a.id\n",
        "                order by count(v.id) desc\n",
        "                limit 5\n",
        "            '''"
      ]
    },
    {
      "cell_type": "code",
      "execution_count": 83,
      "id": "P7QL86hrjhRJ",
      "metadata": {
        "id": "P7QL86hrjhRJ"
      },
      "outputs": [
        {
          "name": "stderr",
          "output_type": "stream",
          "text": [
            "/var/folders/n5/r5jp_9sj3wd999vy8hwphb2c0000gn/T/ipykernel_1162/99698326.py:2: UserWarning: pandas only supports SQLAlchemy connectable (engine/connection) or database string URI or sqlite3 DBAPI2 connection. Other DBAPI2 objects are not tested. Please consider using SQLAlchemy.\n",
            "  regions_vacancies_df = pd.read_sql_query(query_4_1, connection)\n"
          ]
        },
        {
          "data": {
            "text/html": [
              "<div>\n",
              "<style scoped>\n",
              "    .dataframe tbody tr th:only-of-type {\n",
              "        vertical-align: middle;\n",
              "    }\n",
              "\n",
              "    .dataframe tbody tr th {\n",
              "        vertical-align: top;\n",
              "    }\n",
              "\n",
              "    .dataframe thead th {\n",
              "        text-align: right;\n",
              "    }\n",
              "</style>\n",
              "<table border=\"1\" class=\"dataframe\">\n",
              "  <thead>\n",
              "    <tr style=\"text-align: right;\">\n",
              "      <th></th>\n",
              "      <th>area</th>\n",
              "      <th>vacancies_cnt</th>\n",
              "    </tr>\n",
              "  </thead>\n",
              "  <tbody>\n",
              "    <tr>\n",
              "      <th>0</th>\n",
              "      <td>Москва</td>\n",
              "      <td>5333</td>\n",
              "    </tr>\n",
              "    <tr>\n",
              "      <th>1</th>\n",
              "      <td>Санкт-Петербург</td>\n",
              "      <td>2851</td>\n",
              "    </tr>\n",
              "    <tr>\n",
              "      <th>2</th>\n",
              "      <td>Минск</td>\n",
              "      <td>2112</td>\n",
              "    </tr>\n",
              "    <tr>\n",
              "      <th>3</th>\n",
              "      <td>Новосибирск</td>\n",
              "      <td>2006</td>\n",
              "    </tr>\n",
              "    <tr>\n",
              "      <th>4</th>\n",
              "      <td>Алматы</td>\n",
              "      <td>1892</td>\n",
              "    </tr>\n",
              "  </tbody>\n",
              "</table>\n",
              "</div>"
            ],
            "text/plain": [
              "              area  vacancies_cnt\n",
              "0           Москва           5333\n",
              "1  Санкт-Петербург           2851\n",
              "2            Минск           2112\n",
              "3      Новосибирск           2006\n",
              "4           Алматы           1892"
            ]
          },
          "execution_count": 83,
          "metadata": {},
          "output_type": "execute_result"
        }
      ],
      "source": [
        "# результат запроса\n",
        "regions_vacancies_df = pd.read_sql_query(query_4_1, connection)\n",
        "\n",
        "regions_vacancies_df"
      ]
    },
    {
      "cell_type": "markdown",
      "id": "4266f0b6-1646-492a-88b4-2f6a46502135",
      "metadata": {
        "id": "4266f0b6-1646-492a-88b4-2f6a46502135"
      },
      "source": [
        "2. Напишите запрос, чтобы определить у какого количества вакансий заполнено хотя бы одно из двух полей с зарплатой."
      ]
    },
    {
      "cell_type": "code",
      "execution_count": 84,
      "id": "0c44b350-72eb-4d65-8b54-a1fc449ba9fd",
      "metadata": {
        "id": "0c44b350-72eb-4d65-8b54-a1fc449ba9fd"
      },
      "outputs": [],
      "source": [
        "# текст запроса\n",
        "query_4_2 = f'''select\n",
        "                    count(v.id) as vacancies_cnt\n",
        "                from public.vacancies v\n",
        "                where v.salary_from is not null or v.salary_to is not null                          \n",
        "            '''"
      ]
    },
    {
      "cell_type": "code",
      "execution_count": 86,
      "id": "rhvwaMDkoWTi",
      "metadata": {
        "id": "rhvwaMDkoWTi"
      },
      "outputs": [
        {
          "name": "stderr",
          "output_type": "stream",
          "text": [
            "/var/folders/n5/r5jp_9sj3wd999vy8hwphb2c0000gn/T/ipykernel_1162/670278474.py:2: UserWarning: pandas only supports SQLAlchemy connectable (engine/connection) or database string URI or sqlite3 DBAPI2 connection. Other DBAPI2 objects are not tested. Please consider using SQLAlchemy.\n",
            "  vacancies_with_salary = pd.read_sql_query(query_4_2, connection)\n"
          ]
        },
        {
          "data": {
            "text/html": [
              "<div>\n",
              "<style scoped>\n",
              "    .dataframe tbody tr th:only-of-type {\n",
              "        vertical-align: middle;\n",
              "    }\n",
              "\n",
              "    .dataframe tbody tr th {\n",
              "        vertical-align: top;\n",
              "    }\n",
              "\n",
              "    .dataframe thead th {\n",
              "        text-align: right;\n",
              "    }\n",
              "</style>\n",
              "<table border=\"1\" class=\"dataframe\">\n",
              "  <thead>\n",
              "    <tr style=\"text-align: right;\">\n",
              "      <th></th>\n",
              "      <th>vacancies_cnt</th>\n",
              "    </tr>\n",
              "  </thead>\n",
              "  <tbody>\n",
              "    <tr>\n",
              "      <th>0</th>\n",
              "      <td>24073</td>\n",
              "    </tr>\n",
              "  </tbody>\n",
              "</table>\n",
              "</div>"
            ],
            "text/plain": [
              "   vacancies_cnt\n",
              "0          24073"
            ]
          },
          "execution_count": 86,
          "metadata": {},
          "output_type": "execute_result"
        }
      ],
      "source": [
        "# результат запроса\n",
        "vacancies_with_salary = pd.read_sql_query(query_4_2, connection)\n",
        "\n",
        "vacancies_with_salary"
      ]
    },
    {
      "cell_type": "markdown",
      "id": "635c4d5d-f323-4c66-b428-50a088120aa0",
      "metadata": {
        "id": "635c4d5d-f323-4c66-b428-50a088120aa0"
      },
      "source": [
        "3. Найдите средние значения для нижней и верхней границы зарплатной вилки. Округлите значения до целого."
      ]
    },
    {
      "cell_type": "code",
      "execution_count": 16,
      "id": "603cdbe4-0ec3-4106-8eaf-c73fcdd29165",
      "metadata": {
        "id": "603cdbe4-0ec3-4106-8eaf-c73fcdd29165"
      },
      "outputs": [],
      "source": [
        "# текст запроса\n",
        "query_4_3 = f'''select\n",
        "                    avg(v.salary_from) as avg_from,\n",
        "                    avg(v.salary_to) as avg_to\n",
        "                from public.vacancies v                          \n",
        "            '''"
      ]
    },
    {
      "cell_type": "code",
      "execution_count": 17,
      "id": "pswpAb66ovZZ",
      "metadata": {
        "id": "pswpAb66ovZZ"
      },
      "outputs": [
        {
          "name": "stderr",
          "output_type": "stream",
          "text": [
            "/var/folders/n5/r5jp_9sj3wd999vy8hwphb2c0000gn/T/ipykernel_2758/3385658647.py:2: UserWarning: pandas only supports SQLAlchemy connectable (engine/connection) or database string URI or sqlite3 DBAPI2 connection. Other DBAPI2 objects are not tested. Please consider using SQLAlchemy.\n",
            "  avg_salaries = (pd.read_sql_query(query_4_3, connection)).round()\n"
          ]
        },
        {
          "data": {
            "text/html": [
              "<div>\n",
              "<style scoped>\n",
              "    .dataframe tbody tr th:only-of-type {\n",
              "        vertical-align: middle;\n",
              "    }\n",
              "\n",
              "    .dataframe tbody tr th {\n",
              "        vertical-align: top;\n",
              "    }\n",
              "\n",
              "    .dataframe thead th {\n",
              "        text-align: right;\n",
              "    }\n",
              "</style>\n",
              "<table border=\"1\" class=\"dataframe\">\n",
              "  <thead>\n",
              "    <tr style=\"text-align: right;\">\n",
              "      <th></th>\n",
              "      <th>avg_from</th>\n",
              "      <th>avg_to</th>\n",
              "    </tr>\n",
              "  </thead>\n",
              "  <tbody>\n",
              "    <tr>\n",
              "      <th>0</th>\n",
              "      <td>71065.0</td>\n",
              "      <td>110537.0</td>\n",
              "    </tr>\n",
              "  </tbody>\n",
              "</table>\n",
              "</div>"
            ],
            "text/plain": [
              "   avg_from    avg_to\n",
              "0   71065.0  110537.0"
            ]
          },
          "execution_count": 17,
          "metadata": {},
          "output_type": "execute_result"
        }
      ],
      "source": [
        "# результат запроса\n",
        "avg_salaries = (pd.read_sql_query(query_4_3, connection)).round()\n",
        "\n",
        "avg_salaries"
      ]
    },
    {
      "cell_type": "markdown",
      "id": "f3fdaec9-5fd3-4260-9cf5-1d7406b628a5",
      "metadata": {
        "id": "f3fdaec9-5fd3-4260-9cf5-1d7406b628a5"
      },
      "source": [
        "4. Напишите запрос, который выведет количество вакансий для каждого сочетания типа рабочего графика (schedule) и типа трудоустройства (employment), используемого в вакансиях. Результат отсортируйте по убыванию количества.\n"
      ]
    },
    {
      "cell_type": "code",
      "execution_count": 18,
      "id": "1ea710ec-871b-431e-9462-c7d0fd87011b",
      "metadata": {
        "id": "1ea710ec-871b-431e-9462-c7d0fd87011b"
      },
      "outputs": [],
      "source": [
        "# текст запроса\n",
        "query_4_4 = f'''select\n",
        "                    v.schedule,\n",
        "                    v.employment,\n",
        "                    count(v.id) as vacancies_qty\n",
        "                from public.vacancies v\n",
        "                group by 1, 2\n",
        "                order by count(v.id) desc\n",
        "                limit 5                           \n",
        "            '''"
      ]
    },
    {
      "cell_type": "code",
      "execution_count": 19,
      "id": "lGUVqavdo4JQ",
      "metadata": {
        "id": "lGUVqavdo4JQ"
      },
      "outputs": [
        {
          "name": "stderr",
          "output_type": "stream",
          "text": [
            "/var/folders/n5/r5jp_9sj3wd999vy8hwphb2c0000gn/T/ipykernel_2758/3764823698.py:2: UserWarning: pandas only supports SQLAlchemy connectable (engine/connection) or database string URI or sqlite3 DBAPI2 connection. Other DBAPI2 objects are not tested. Please consider using SQLAlchemy.\n",
            "  sch_emp_vac_qty = pd.read_sql_query(query_4_4, connection)\n"
          ]
        },
        {
          "data": {
            "text/html": [
              "<div>\n",
              "<style scoped>\n",
              "    .dataframe tbody tr th:only-of-type {\n",
              "        vertical-align: middle;\n",
              "    }\n",
              "\n",
              "    .dataframe tbody tr th {\n",
              "        vertical-align: top;\n",
              "    }\n",
              "\n",
              "    .dataframe thead th {\n",
              "        text-align: right;\n",
              "    }\n",
              "</style>\n",
              "<table border=\"1\" class=\"dataframe\">\n",
              "  <thead>\n",
              "    <tr style=\"text-align: right;\">\n",
              "      <th></th>\n",
              "      <th>schedule</th>\n",
              "      <th>employment</th>\n",
              "      <th>vacancies_qty</th>\n",
              "    </tr>\n",
              "  </thead>\n",
              "  <tbody>\n",
              "    <tr>\n",
              "      <th>0</th>\n",
              "      <td>Полный день</td>\n",
              "      <td>Полная занятость</td>\n",
              "      <td>35367</td>\n",
              "    </tr>\n",
              "    <tr>\n",
              "      <th>1</th>\n",
              "      <td>Удаленная работа</td>\n",
              "      <td>Полная занятость</td>\n",
              "      <td>7802</td>\n",
              "    </tr>\n",
              "    <tr>\n",
              "      <th>2</th>\n",
              "      <td>Гибкий график</td>\n",
              "      <td>Полная занятость</td>\n",
              "      <td>1593</td>\n",
              "    </tr>\n",
              "    <tr>\n",
              "      <th>3</th>\n",
              "      <td>Удаленная работа</td>\n",
              "      <td>Частичная занятость</td>\n",
              "      <td>1312</td>\n",
              "    </tr>\n",
              "    <tr>\n",
              "      <th>4</th>\n",
              "      <td>Сменный график</td>\n",
              "      <td>Полная занятость</td>\n",
              "      <td>940</td>\n",
              "    </tr>\n",
              "  </tbody>\n",
              "</table>\n",
              "</div>"
            ],
            "text/plain": [
              "           schedule           employment  vacancies_qty\n",
              "0       Полный день     Полная занятость          35367\n",
              "1  Удаленная работа     Полная занятость           7802\n",
              "2     Гибкий график     Полная занятость           1593\n",
              "3  Удаленная работа  Частичная занятость           1312\n",
              "4    Сменный график     Полная занятость            940"
            ]
          },
          "execution_count": 19,
          "metadata": {},
          "output_type": "execute_result"
        }
      ],
      "source": [
        "# результат запроса\n",
        "sch_emp_vac_qty = pd.read_sql_query(query_4_4, connection)\n",
        "\n",
        "sch_emp_vac_qty"
      ]
    },
    {
      "cell_type": "markdown",
      "id": "0136ffee-0ead-4a6b-b608-61d1c753a438",
      "metadata": {
        "id": "0136ffee-0ead-4a6b-b608-61d1c753a438"
      },
      "source": [
        "5. Напишите запрос, выводящий значения поля Требуемый опыт работы (experience) в порядке возрастания количества вакансий, в которых указан данный вариант опыта. "
      ]
    },
    {
      "cell_type": "code",
      "execution_count": 20,
      "id": "5b3a8e79-f7ab-4008-b767-12aea3a205ea",
      "metadata": {
        "id": "5b3a8e79-f7ab-4008-b767-12aea3a205ea"
      },
      "outputs": [],
      "source": [
        "# текст запроса\n",
        "query_4_5 = f'''select\n",
        "                    format('Требуемый опыт работы %s', v.experience) as experience,\n",
        "                    count(v.id) as vacancies_qty                   \n",
        "                from public.vacancies v\n",
        "                group by 1\n",
        "                order by count(v.id)                        \n",
        "            '''"
      ]
    },
    {
      "cell_type": "code",
      "execution_count": 21,
      "id": "3Is64Y-hpDpq",
      "metadata": {
        "id": "3Is64Y-hpDpq"
      },
      "outputs": [
        {
          "name": "stderr",
          "output_type": "stream",
          "text": [
            "/var/folders/n5/r5jp_9sj3wd999vy8hwphb2c0000gn/T/ipykernel_2758/677761043.py:2: UserWarning: pandas only supports SQLAlchemy connectable (engine/connection) or database string URI or sqlite3 DBAPI2 connection. Other DBAPI2 objects are not tested. Please consider using SQLAlchemy.\n",
            "  experience_df = pd.read_sql_query(query_4_5, connection)\n"
          ]
        },
        {
          "data": {
            "text/html": [
              "<div>\n",
              "<style scoped>\n",
              "    .dataframe tbody tr th:only-of-type {\n",
              "        vertical-align: middle;\n",
              "    }\n",
              "\n",
              "    .dataframe tbody tr th {\n",
              "        vertical-align: top;\n",
              "    }\n",
              "\n",
              "    .dataframe thead th {\n",
              "        text-align: right;\n",
              "    }\n",
              "</style>\n",
              "<table border=\"1\" class=\"dataframe\">\n",
              "  <thead>\n",
              "    <tr style=\"text-align: right;\">\n",
              "      <th></th>\n",
              "      <th>experience</th>\n",
              "      <th>vacancies_qty</th>\n",
              "    </tr>\n",
              "  </thead>\n",
              "  <tbody>\n",
              "    <tr>\n",
              "      <th>0</th>\n",
              "      <td>Требуемый опыт работы Более 6 лет</td>\n",
              "      <td>1337</td>\n",
              "    </tr>\n",
              "    <tr>\n",
              "      <th>1</th>\n",
              "      <td>Требуемый опыт работы Нет опыта</td>\n",
              "      <td>7197</td>\n",
              "    </tr>\n",
              "    <tr>\n",
              "      <th>2</th>\n",
              "      <td>Требуемый опыт работы От 3 до 6 лет</td>\n",
              "      <td>14511</td>\n",
              "    </tr>\n",
              "    <tr>\n",
              "      <th>3</th>\n",
              "      <td>Требуемый опыт работы От 1 года до 3 лет</td>\n",
              "      <td>26152</td>\n",
              "    </tr>\n",
              "  </tbody>\n",
              "</table>\n",
              "</div>"
            ],
            "text/plain": [
              "                                 experience  vacancies_qty\n",
              "0         Требуемый опыт работы Более 6 лет           1337\n",
              "1           Требуемый опыт работы Нет опыта           7197\n",
              "2       Требуемый опыт работы От 3 до 6 лет          14511\n",
              "3  Требуемый опыт работы От 1 года до 3 лет          26152"
            ]
          },
          "execution_count": 21,
          "metadata": {},
          "output_type": "execute_result"
        }
      ],
      "source": [
        "# результат запроса\n",
        "experience_df = pd.read_sql_query(query_4_5, connection)\n",
        "\n",
        "experience_df"
      ]
    },
    {
      "cell_type": "markdown",
      "id": "oq2b7n1QpIka",
      "metadata": {
        "id": "oq2b7n1QpIka"
      },
      "source": [
        "***"
      ]
    },
    {
      "cell_type": "markdown",
      "id": "703d1acf",
      "metadata": {},
      "source": [
        "*ВЫВОДЫ:*  \n",
        "\n",
        "*ТОП-5 регионов по количеству вакансий: Москва, Санкт-Петербург, Минск, Новосибирск, Алматы.*   \n",
        "\n",
        "*Более чем у половины вакансий не указана зарплата.*  \n",
        "*Средняя указанная зарплатная вилка по вакансиям составляет 71 тыс. руб. - 110 тыс. руб.*  \n",
        "\n",
        "*На большинство вакансий (35367 шт.), 70% от общего количества, требуются соискатели на полный рабочий день с полной занятостью. Еще примерно у 15% вакансий от общего количества работодатели согласны на удаленнку с полной занятостью. Полная занятость в приоритете у подавляющего большинства работодателей, разместивших вакансии.*   \n",
        "\n",
        "*Количество вакансий для специалистов с опытом более 6 лет гораздо меньше (3% от общего количества), чем с опытом работы до 6 лет, которых большинство, особенно с опытом до 3 лет. Возможно, это объясняется тем, что работодателям требуются молодые специалисты, с возможностью дальнейшего обучения под конкретные цели. Среди более опытных специалистов вероятно меньше тякучка кадров, и они более ценятся на местах, поэтому вакансий для данной категории меньшинство.*"
      ]
    },
    {
      "cell_type": "markdown",
      "id": "7ea20ab6-04a7-40a0-adec-443a0e5a42c3",
      "metadata": {
        "id": "7ea20ab6-04a7-40a0-adec-443a0e5a42c3"
      },
      "source": [
        "# Юнит 5. Анализ работодателей"
      ]
    },
    {
      "cell_type": "markdown",
      "id": "968aed80-74ef-4ffb-b5bf-c65b84e9caea",
      "metadata": {
        "id": "968aed80-74ef-4ffb-b5bf-c65b84e9caea"
      },
      "source": [
        "1. Напишите запрос, который позволит узнать, какие работодатели находятся на первом и пятом месте по количеству вакансий."
      ]
    },
    {
      "cell_type": "code",
      "execution_count": 22,
      "id": "f2d62796-d400-4ec1-a675-88112739a50e",
      "metadata": {
        "id": "f2d62796-d400-4ec1-a675-88112739a50e"
      },
      "outputs": [],
      "source": [
        "# текст запроса\n",
        "query_5_1 = f'''select\n",
        "                    e.name as employer,\n",
        "                    count(v.id) as vacancies_cnt\n",
        "                from public.employers e\n",
        "                join public.vacancies v on e.id = v.employer_id\n",
        "                group by e.id\n",
        "                order by count(v.id) desc\n",
        "                limit 5\n",
        "            '''"
      ]
    },
    {
      "cell_type": "code",
      "execution_count": 23,
      "id": "64tOMkAxqkQk",
      "metadata": {
        "id": "64tOMkAxqkQk"
      },
      "outputs": [
        {
          "name": "stderr",
          "output_type": "stream",
          "text": [
            "/var/folders/n5/r5jp_9sj3wd999vy8hwphb2c0000gn/T/ipykernel_2758/3095218860.py:2: UserWarning: pandas only supports SQLAlchemy connectable (engine/connection) or database string URI or sqlite3 DBAPI2 connection. Other DBAPI2 objects are not tested. Please consider using SQLAlchemy.\n",
            "  employers_top5 = pd.read_sql_query(query_5_1, connection)\n"
          ]
        },
        {
          "data": {
            "text/html": [
              "<div>\n",
              "<style scoped>\n",
              "    .dataframe tbody tr th:only-of-type {\n",
              "        vertical-align: middle;\n",
              "    }\n",
              "\n",
              "    .dataframe tbody tr th {\n",
              "        vertical-align: top;\n",
              "    }\n",
              "\n",
              "    .dataframe thead th {\n",
              "        text-align: right;\n",
              "    }\n",
              "</style>\n",
              "<table border=\"1\" class=\"dataframe\">\n",
              "  <thead>\n",
              "    <tr style=\"text-align: right;\">\n",
              "      <th></th>\n",
              "      <th>employer</th>\n",
              "      <th>vacancies_cnt</th>\n",
              "    </tr>\n",
              "  </thead>\n",
              "  <tbody>\n",
              "    <tr>\n",
              "      <th>0</th>\n",
              "      <td>Яндекс</td>\n",
              "      <td>1933</td>\n",
              "    </tr>\n",
              "    <tr>\n",
              "      <th>1</th>\n",
              "      <td>Ростелеком</td>\n",
              "      <td>491</td>\n",
              "    </tr>\n",
              "    <tr>\n",
              "      <th>2</th>\n",
              "      <td>Тинькофф</td>\n",
              "      <td>444</td>\n",
              "    </tr>\n",
              "    <tr>\n",
              "      <th>3</th>\n",
              "      <td>СБЕР</td>\n",
              "      <td>428</td>\n",
              "    </tr>\n",
              "    <tr>\n",
              "      <th>4</th>\n",
              "      <td>Газпром нефть</td>\n",
              "      <td>331</td>\n",
              "    </tr>\n",
              "  </tbody>\n",
              "</table>\n",
              "</div>"
            ],
            "text/plain": [
              "        employer  vacancies_cnt\n",
              "0         Яндекс           1933\n",
              "1     Ростелеком            491\n",
              "2       Тинькофф            444\n",
              "3           СБЕР            428\n",
              "4  Газпром нефть            331"
            ]
          },
          "execution_count": 23,
          "metadata": {},
          "output_type": "execute_result"
        }
      ],
      "source": [
        "# результат запроса\n",
        "employers_top5 = pd.read_sql_query(query_5_1, connection)\n",
        "\n",
        "employers_top5"
      ]
    },
    {
      "cell_type": "markdown",
      "id": "68377cfc-b378-43dc-ab7d-1195abf2c515",
      "metadata": {
        "id": "68377cfc-b378-43dc-ab7d-1195abf2c515"
      },
      "source": [
        "2. Напишите запрос, который для каждого региона выведет количество работодателей и вакансий в нём.\n",
        "Среди регионов, в которых нет вакансий, найдите тот, в котором наибольшее количество работодателей.\n"
      ]
    },
    {
      "cell_type": "code",
      "execution_count": 56,
      "id": "dd7df27a-e3e8-412e-a21a-5d389b71e891",
      "metadata": {
        "id": "dd7df27a-e3e8-412e-a21a-5d389b71e891"
      },
      "outputs": [],
      "source": [
        "# текст запроса\n",
        "query_5_2 = f'''select\n",
        "                    a.name as area_name,\n",
        "                    count(distinct e.id) as employers_qnt,\n",
        "                    count(distinct v.id) as vacancies_qnt\n",
        "                from public.areas a\n",
        "                left join public.vacancies v on a.id = v.area_id\n",
        "                left join public.employers e on e.area = a.id\n",
        "                group by a.id\n",
        "                order by count(distinct v.id), count(distinct e.id) desc\n",
        "            '''"
      ]
    },
    {
      "cell_type": "code",
      "execution_count": 57,
      "id": "x1ikWbydrbf6",
      "metadata": {
        "id": "x1ikWbydrbf6"
      },
      "outputs": [
        {
          "name": "stderr",
          "output_type": "stream",
          "text": [
            "/var/folders/n5/r5jp_9sj3wd999vy8hwphb2c0000gn/T/ipykernel_2758/1305713803.py:2: UserWarning: pandas only supports SQLAlchemy connectable (engine/connection) or database string URI or sqlite3 DBAPI2 connection. Other DBAPI2 objects are not tested. Please consider using SQLAlchemy.\n",
            "  vac_emp_by_area = pd.read_sql_query(query_5_2, connection)\n"
          ]
        },
        {
          "data": {
            "text/html": [
              "<div>\n",
              "<style scoped>\n",
              "    .dataframe tbody tr th:only-of-type {\n",
              "        vertical-align: middle;\n",
              "    }\n",
              "\n",
              "    .dataframe tbody tr th {\n",
              "        vertical-align: top;\n",
              "    }\n",
              "\n",
              "    .dataframe thead th {\n",
              "        text-align: right;\n",
              "    }\n",
              "</style>\n",
              "<table border=\"1\" class=\"dataframe\">\n",
              "  <thead>\n",
              "    <tr style=\"text-align: right;\">\n",
              "      <th></th>\n",
              "      <th>area_name</th>\n",
              "      <th>employers_qnt</th>\n",
              "      <th>vacancies_qnt</th>\n",
              "    </tr>\n",
              "  </thead>\n",
              "  <tbody>\n",
              "    <tr>\n",
              "      <th>0</th>\n",
              "      <td>Россия</td>\n",
              "      <td>410</td>\n",
              "      <td>0</td>\n",
              "    </tr>\n",
              "    <tr>\n",
              "      <th>1</th>\n",
              "      <td>Казахстан</td>\n",
              "      <td>207</td>\n",
              "      <td>0</td>\n",
              "    </tr>\n",
              "    <tr>\n",
              "      <th>2</th>\n",
              "      <td>Московская область</td>\n",
              "      <td>75</td>\n",
              "      <td>0</td>\n",
              "    </tr>\n",
              "    <tr>\n",
              "      <th>3</th>\n",
              "      <td>Краснодарский край</td>\n",
              "      <td>19</td>\n",
              "      <td>0</td>\n",
              "    </tr>\n",
              "    <tr>\n",
              "      <th>4</th>\n",
              "      <td>Ростовская область</td>\n",
              "      <td>18</td>\n",
              "      <td>0</td>\n",
              "    </tr>\n",
              "    <tr>\n",
              "      <th>...</th>\n",
              "      <td>...</td>\n",
              "      <td>...</td>\n",
              "      <td>...</td>\n",
              "    </tr>\n",
              "    <tr>\n",
              "      <th>1357</th>\n",
              "      <td>Алматы</td>\n",
              "      <td>721</td>\n",
              "      <td>1892</td>\n",
              "    </tr>\n",
              "    <tr>\n",
              "      <th>1358</th>\n",
              "      <td>Новосибирск</td>\n",
              "      <td>573</td>\n",
              "      <td>2006</td>\n",
              "    </tr>\n",
              "    <tr>\n",
              "      <th>1359</th>\n",
              "      <td>Минск</td>\n",
              "      <td>1115</td>\n",
              "      <td>2112</td>\n",
              "    </tr>\n",
              "    <tr>\n",
              "      <th>1360</th>\n",
              "      <td>Санкт-Петербург</td>\n",
              "      <td>2217</td>\n",
              "      <td>2851</td>\n",
              "    </tr>\n",
              "    <tr>\n",
              "      <th>1361</th>\n",
              "      <td>Москва</td>\n",
              "      <td>5864</td>\n",
              "      <td>5333</td>\n",
              "    </tr>\n",
              "  </tbody>\n",
              "</table>\n",
              "<p>1362 rows × 3 columns</p>\n",
              "</div>"
            ],
            "text/plain": [
              "               area_name  employers_qnt  vacancies_qnt\n",
              "0                 Россия            410              0\n",
              "1              Казахстан            207              0\n",
              "2     Московская область             75              0\n",
              "3     Краснодарский край             19              0\n",
              "4     Ростовская область             18              0\n",
              "...                  ...            ...            ...\n",
              "1357              Алматы            721           1892\n",
              "1358         Новосибирск            573           2006\n",
              "1359               Минск           1115           2112\n",
              "1360     Санкт-Петербург           2217           2851\n",
              "1361              Москва           5864           5333\n",
              "\n",
              "[1362 rows x 3 columns]"
            ]
          },
          "execution_count": 57,
          "metadata": {},
          "output_type": "execute_result"
        }
      ],
      "source": [
        "# результат запроса\n",
        "vac_emp_by_area = pd.read_sql_query(query_5_2, connection)\n",
        "\n",
        "vac_emp_by_area\n"
      ]
    },
    {
      "cell_type": "markdown",
      "id": "f2fe0acb-ab1a-4e15-9326-2560e22d73c1",
      "metadata": {
        "id": "f2fe0acb-ab1a-4e15-9326-2560e22d73c1"
      },
      "source": [
        "3. Для каждого работодателя посчитайте количество регионов, в которых он публикует свои вакансии. Отсортируйте результат по убыванию количества.\n"
      ]
    },
    {
      "cell_type": "code",
      "execution_count": 60,
      "id": "6271f8ad-bd2e-4196-ae4a-5b39c4c1010e",
      "metadata": {
        "id": "6271f8ad-bd2e-4196-ae4a-5b39c4c1010e"
      },
      "outputs": [],
      "source": [
        "# текст запроса\n",
        "query_5_3 = f'''select\n",
        "                    e.name as employer,\n",
        "                    count(distinct v.area_id) as areas_qnt                   \n",
        "                from public.employers e\n",
        "                left join public.vacancies v on e.id = v.employer_id                \n",
        "                group by e.id\n",
        "                order by count(distinct v.area_id) desc\n",
        "            '''"
      ]
    },
    {
      "cell_type": "code",
      "execution_count": 61,
      "id": "1EIvX3HasH4F",
      "metadata": {
        "id": "1EIvX3HasH4F"
      },
      "outputs": [
        {
          "name": "stderr",
          "output_type": "stream",
          "text": [
            "/var/folders/n5/r5jp_9sj3wd999vy8hwphb2c0000gn/T/ipykernel_2758/2178044925.py:2: UserWarning: pandas only supports SQLAlchemy connectable (engine/connection) or database string URI or sqlite3 DBAPI2 connection. Other DBAPI2 objects are not tested. Please consider using SQLAlchemy.\n",
            "  reg_qnt_by_emp = pd.read_sql_query(query_5_3, connection)\n"
          ]
        },
        {
          "data": {
            "text/html": [
              "<div>\n",
              "<style scoped>\n",
              "    .dataframe tbody tr th:only-of-type {\n",
              "        vertical-align: middle;\n",
              "    }\n",
              "\n",
              "    .dataframe tbody tr th {\n",
              "        vertical-align: top;\n",
              "    }\n",
              "\n",
              "    .dataframe thead th {\n",
              "        text-align: right;\n",
              "    }\n",
              "</style>\n",
              "<table border=\"1\" class=\"dataframe\">\n",
              "  <thead>\n",
              "    <tr style=\"text-align: right;\">\n",
              "      <th></th>\n",
              "      <th>employer</th>\n",
              "      <th>areas_qnt</th>\n",
              "    </tr>\n",
              "  </thead>\n",
              "  <tbody>\n",
              "    <tr>\n",
              "      <th>0</th>\n",
              "      <td>Яндекс</td>\n",
              "      <td>181</td>\n",
              "    </tr>\n",
              "    <tr>\n",
              "      <th>1</th>\n",
              "      <td>Ростелеком</td>\n",
              "      <td>152</td>\n",
              "    </tr>\n",
              "    <tr>\n",
              "      <th>2</th>\n",
              "      <td>Спецремонт</td>\n",
              "      <td>116</td>\n",
              "    </tr>\n",
              "    <tr>\n",
              "      <th>3</th>\n",
              "      <td>Поляков Денис Иванович</td>\n",
              "      <td>88</td>\n",
              "    </tr>\n",
              "    <tr>\n",
              "      <th>4</th>\n",
              "      <td>ООО ЕФИН</td>\n",
              "      <td>71</td>\n",
              "    </tr>\n",
              "    <tr>\n",
              "      <th>...</th>\n",
              "      <td>...</td>\n",
              "      <td>...</td>\n",
              "    </tr>\n",
              "    <tr>\n",
              "      <th>23496</th>\n",
              "      <td>Но Смокинг</td>\n",
              "      <td>0</td>\n",
              "    </tr>\n",
              "    <tr>\n",
              "      <th>23497</th>\n",
              "      <td>МАСТЕРСКАЯ CREED</td>\n",
              "      <td>0</td>\n",
              "    </tr>\n",
              "    <tr>\n",
              "      <th>23498</th>\n",
              "      <td>Dzing Finance</td>\n",
              "      <td>0</td>\n",
              "    </tr>\n",
              "    <tr>\n",
              "      <th>23499</th>\n",
              "      <td>КОРС</td>\n",
              "      <td>0</td>\n",
              "    </tr>\n",
              "    <tr>\n",
              "      <th>23500</th>\n",
              "      <td>Наука-Связь</td>\n",
              "      <td>0</td>\n",
              "    </tr>\n",
              "  </tbody>\n",
              "</table>\n",
              "<p>23501 rows × 2 columns</p>\n",
              "</div>"
            ],
            "text/plain": [
              "                     employer  areas_qnt\n",
              "0                      Яндекс        181\n",
              "1                  Ростелеком        152\n",
              "2                  Спецремонт        116\n",
              "3      Поляков Денис Иванович         88\n",
              "4                   ООО ЕФИН          71\n",
              "...                       ...        ...\n",
              "23496              Но Смокинг          0\n",
              "23497        МАСТЕРСКАЯ CREED          0\n",
              "23498           Dzing Finance          0\n",
              "23499                    КОРС          0\n",
              "23500             Наука-Связь          0\n",
              "\n",
              "[23501 rows x 2 columns]"
            ]
          },
          "execution_count": 61,
          "metadata": {},
          "output_type": "execute_result"
        }
      ],
      "source": [
        "# результат запроса\n",
        "reg_qnt_by_emp = pd.read_sql_query(query_5_3, connection)\n",
        "\n",
        "reg_qnt_by_emp"
      ]
    },
    {
      "cell_type": "markdown",
      "id": "eab2206d-d95b-468b-8e5f-34381abf0ce7",
      "metadata": {
        "id": "eab2206d-d95b-468b-8e5f-34381abf0ce7"
      },
      "source": [
        "4. Напишите запрос для подсчёта количества работодателей, у которых не указана сфера деятельности. "
      ]
    },
    {
      "cell_type": "code",
      "execution_count": 10,
      "id": "80defb23-bfb1-4a18-8be6-bf36aa7165d5",
      "metadata": {
        "id": "80defb23-bfb1-4a18-8be6-bf36aa7165d5"
      },
      "outputs": [],
      "source": [
        "# текст запроса\n",
        "query_5_4 = f'''select\n",
        "                    count(distinct e.id) as employers_cnt                                      \n",
        "                from public.employers e\n",
        "                left join public.employers_industries ei on e.id = ei.employer_id\n",
        "                 where ei.industry_id is null\n",
        "            '''"
      ]
    },
    {
      "cell_type": "code",
      "execution_count": 11,
      "id": "Dp_yCx6ysQSu",
      "metadata": {
        "id": "Dp_yCx6ysQSu"
      },
      "outputs": [
        {
          "name": "stderr",
          "output_type": "stream",
          "text": [
            "/var/folders/n5/r5jp_9sj3wd999vy8hwphb2c0000gn/T/ipykernel_3453/3147838927.py:2: UserWarning: pandas only supports SQLAlchemy connectable (engine/connection) or database string URI or sqlite3 DBAPI2 connection. Other DBAPI2 objects are not tested. Please consider using SQLAlchemy.\n",
            "  emp_no_industries = pd.read_sql_query(query_5_4, connection)\n"
          ]
        },
        {
          "data": {
            "text/html": [
              "<div>\n",
              "<style scoped>\n",
              "    .dataframe tbody tr th:only-of-type {\n",
              "        vertical-align: middle;\n",
              "    }\n",
              "\n",
              "    .dataframe tbody tr th {\n",
              "        vertical-align: top;\n",
              "    }\n",
              "\n",
              "    .dataframe thead th {\n",
              "        text-align: right;\n",
              "    }\n",
              "</style>\n",
              "<table border=\"1\" class=\"dataframe\">\n",
              "  <thead>\n",
              "    <tr style=\"text-align: right;\">\n",
              "      <th></th>\n",
              "      <th>employers_cnt</th>\n",
              "    </tr>\n",
              "  </thead>\n",
              "  <tbody>\n",
              "    <tr>\n",
              "      <th>0</th>\n",
              "      <td>8419</td>\n",
              "    </tr>\n",
              "  </tbody>\n",
              "</table>\n",
              "</div>"
            ],
            "text/plain": [
              "   employers_cnt\n",
              "0           8419"
            ]
          },
          "execution_count": 11,
          "metadata": {},
          "output_type": "execute_result"
        }
      ],
      "source": [
        "# результат запроса\n",
        "emp_no_industries = pd.read_sql_query(query_5_4, connection)\n",
        "\n",
        "emp_no_industries"
      ]
    },
    {
      "cell_type": "markdown",
      "id": "0112af31-f6b0-4e3b-82ab-71296e752e5e",
      "metadata": {
        "id": "0112af31-f6b0-4e3b-82ab-71296e752e5e"
      },
      "source": [
        "5. Напишите запрос, чтобы узнать название компании, находящейся на третьем месте в алфавитном списке (по названию) компаний, у которых указано четыре сферы деятельности. "
      ]
    },
    {
      "cell_type": "code",
      "execution_count": 6,
      "id": "973b0cfc-a972-470a-8b4a-68744ef220c4",
      "metadata": {
        "id": "973b0cfc-a972-470a-8b4a-68744ef220c4"
      },
      "outputs": [],
      "source": [
        "# текст запроса\n",
        "query_5_5 = f'''select\n",
        "                    e.name as employer                                                         \n",
        "                from public.employers e\n",
        "                left join public.employers_industries ei on e.id = ei.employer_id\n",
        "                group by 1\n",
        "                having count(distinct ei.industry_id) = 4\n",
        "                order by 1\n",
        "                offset 2\n",
        "                limit 1\n",
        "            '''"
      ]
    },
    {
      "cell_type": "code",
      "execution_count": 7,
      "id": "xsPtpp8EsaED",
      "metadata": {
        "id": "xsPtpp8EsaED"
      },
      "outputs": [
        {
          "name": "stderr",
          "output_type": "stream",
          "text": [
            "/var/folders/n5/r5jp_9sj3wd999vy8hwphb2c0000gn/T/ipykernel_1352/4163125096.py:2: UserWarning: pandas only supports SQLAlchemy connectable (engine/connection) or database string URI or sqlite3 DBAPI2 connection. Other DBAPI2 objects are not tested. Please consider using SQLAlchemy.\n",
            "  emp_4_industries = pd.read_sql_query(query_5_5, connection)\n"
          ]
        },
        {
          "data": {
            "text/html": [
              "<div>\n",
              "<style scoped>\n",
              "    .dataframe tbody tr th:only-of-type {\n",
              "        vertical-align: middle;\n",
              "    }\n",
              "\n",
              "    .dataframe tbody tr th {\n",
              "        vertical-align: top;\n",
              "    }\n",
              "\n",
              "    .dataframe thead th {\n",
              "        text-align: right;\n",
              "    }\n",
              "</style>\n",
              "<table border=\"1\" class=\"dataframe\">\n",
              "  <thead>\n",
              "    <tr style=\"text-align: right;\">\n",
              "      <th></th>\n",
              "      <th>employer</th>\n",
              "    </tr>\n",
              "  </thead>\n",
              "  <tbody>\n",
              "    <tr>\n",
              "      <th>0</th>\n",
              "      <td>2ГИС</td>\n",
              "    </tr>\n",
              "  </tbody>\n",
              "</table>\n",
              "</div>"
            ],
            "text/plain": [
              "  employer\n",
              "0     2ГИС"
            ]
          },
          "execution_count": 7,
          "metadata": {},
          "output_type": "execute_result"
        }
      ],
      "source": [
        "# результат запроса\n",
        "emp_4_industries = pd.read_sql_query(query_5_5, connection)\n",
        "\n",
        "emp_4_industries"
      ]
    },
    {
      "cell_type": "markdown",
      "id": "3bfcfdaf-755d-4d2b-8ed8-326201dc07ab",
      "metadata": {
        "id": "3bfcfdaf-755d-4d2b-8ed8-326201dc07ab"
      },
      "source": [
        "6. С помощью запроса выясните, у какого количества работодателей в качестве сферы деятельности указана Разработка программного обеспечения.\n"
      ]
    },
    {
      "cell_type": "code",
      "execution_count": 7,
      "id": "ad3f270f-2991-47eb-929b-e8f88a55b0d1",
      "metadata": {
        "id": "ad3f270f-2991-47eb-929b-e8f88a55b0d1"
      },
      "outputs": [],
      "source": [
        "# текст запроса\n",
        "query_5_6 = f'''select\n",
        "                    count(distinct ei.employer_id) as employers_cnt                                                         \n",
        "                from public.employers_industries ei\n",
        "                join public.industries i on ei.industry_id = i.id                \n",
        "                where i.name = 'Разработка программного обеспечения'               \n",
        "            '''"
      ]
    },
    {
      "cell_type": "code",
      "execution_count": 8,
      "id": "H72qxWM0shPR",
      "metadata": {
        "id": "H72qxWM0shPR"
      },
      "outputs": [
        {
          "name": "stderr",
          "output_type": "stream",
          "text": [
            "/var/folders/n5/r5jp_9sj3wd999vy8hwphb2c0000gn/T/ipykernel_1190/146964118.py:2: UserWarning: pandas only supports SQLAlchemy connectable (engine/connection) or database string URI or sqlite3 DBAPI2 connection. Other DBAPI2 objects are not tested. Please consider using SQLAlchemy.\n",
            "  emp_cnt = pd.read_sql_query(query_5_6, connection)\n"
          ]
        },
        {
          "data": {
            "text/html": [
              "<div>\n",
              "<style scoped>\n",
              "    .dataframe tbody tr th:only-of-type {\n",
              "        vertical-align: middle;\n",
              "    }\n",
              "\n",
              "    .dataframe tbody tr th {\n",
              "        vertical-align: top;\n",
              "    }\n",
              "\n",
              "    .dataframe thead th {\n",
              "        text-align: right;\n",
              "    }\n",
              "</style>\n",
              "<table border=\"1\" class=\"dataframe\">\n",
              "  <thead>\n",
              "    <tr style=\"text-align: right;\">\n",
              "      <th></th>\n",
              "      <th>employers_cnt</th>\n",
              "    </tr>\n",
              "  </thead>\n",
              "  <tbody>\n",
              "    <tr>\n",
              "      <th>0</th>\n",
              "      <td>3553</td>\n",
              "    </tr>\n",
              "  </tbody>\n",
              "</table>\n",
              "</div>"
            ],
            "text/plain": [
              "   employers_cnt\n",
              "0           3553"
            ]
          },
          "execution_count": 8,
          "metadata": {},
          "output_type": "execute_result"
        }
      ],
      "source": [
        "# результат запроса\n",
        "emp_cnt = pd.read_sql_query(query_5_6, connection)\n",
        "\n",
        "emp_cnt"
      ]
    },
    {
      "cell_type": "markdown",
      "id": "7b02bb86-0546-40fb-94a4-242f050a5c57",
      "metadata": {
        "id": "7b02bb86-0546-40fb-94a4-242f050a5c57"
      },
      "source": [
        "7. Для компании «Яндекс» выведите список регионов-миллионников, в которых представлены вакансии компании, вместе с количеством вакансий в этих регионах. Также добавьте строку Total с общим количеством вакансий компании. Результат отсортируйте по возрастанию количества.\n",
        "\n",
        "Список городов-милионников надо взять [отсюда](https://ru.wikipedia.org/wiki/%D0%93%D0%BE%D1%80%D0%BE%D0%B4%D0%B0-%D0%BC%D0%B8%D0%BB%D0%BB%D0%B8%D0%BE%D0%BD%D0%B5%D1%80%D1%8B_%D0%A0%D0%BE%D1%81%D1%81%D0%B8%D0%B8). \n",
        "\n",
        "Если возникнут трудности с этим задание посмотрите материалы модуля  PYTHON-17. Как получать данные из веб-источников и API. "
      ]
    },
    {
      "cell_type": "code",
      "execution_count": 7,
      "id": "ZdfrL6gIs1Pn",
      "metadata": {
        "id": "ZdfrL6gIs1Pn"
      },
      "outputs": [
        {
          "name": "stdout",
          "output_type": "stream",
          "text": [
            "'Москва', 'Санкт-Петербург', 'Новосибирск', 'Екатеринбург', 'Казань', 'Красноярск', 'Нижний Новгород', 'Челябинск', 'Уфа', 'Самара', 'Ростов-на-Дону', 'Краснодар', 'Омск', 'Воронеж', 'Пермь', 'Волгоград'\n"
          ]
        }
      ],
      "source": [
        "# код для получения списка городов-милионников\n",
        "import requests\n",
        "from bs4 import BeautifulSoup\n",
        "\n",
        "url = \"https://ru.wikipedia.org/wiki/Города-миллионеры_России\"\n",
        "\n",
        "# Заголовки (чтобы Wikipedia не заблокировала запрос)\n",
        "headers = {\"User-Agent\": \"Mozilla/5.0\"}\n",
        "\n",
        "response = requests.get(url, headers=headers)\n",
        "soup = BeautifulSoup(response.text, \"html.parser\")\n",
        "\n",
        "# Находим таблицу, следующую после заголовка \"Список городов\"\n",
        "h2_tag = soup.find(\"h2\", id=\"Список_городов\")\n",
        "table = h2_tag.find_next(\"table\")\n",
        "\n",
        "# Извлекаем названия городов\n",
        "cities = []\n",
        "for row in table.find_all(\"tr\")[1:]:  # Пропускаем заголовок таблицы\n",
        "    cells = row.find_all(\"td\")\n",
        "    if cells:\n",
        "        city = cells[1].text.strip()  # Название города во втором <td>\n",
        "        cities.append(city)\n",
        "\n",
        "# Преобразуем список cities в строку, подходящую для SQL\n",
        "cities_str = \", \".join([f\"'{city}'\" for city in cities])\n",
        "\n",
        "print(cities_str)"
      ]
    },
    {
      "cell_type": "code",
      "execution_count": 15,
      "id": "142aa0c4",
      "metadata": {},
      "outputs": [],
      "source": [
        "# текст запроса\n",
        "# Запрос для подсчета вакансий по регионам-миллионникам\n",
        "query_areas = f'''select\n",
        "                      a.name as area, \n",
        "                      count(distinct v.id) \n",
        "                  from public.vacancies v\n",
        "                  left join public.areas a on a.id = v.area_id\n",
        "                  left join public.employers e on e.id = v.employer_id\n",
        "                  where e.name = 'Яндекс' \n",
        "                  and a.name in ({cities_str})\n",
        "                  group by 1\n",
        "                  order by 2\n",
        "              ''' \n",
        "\n",
        "\n",
        "# Запрос для общего количества вакансий\n",
        "query_total = f'''select\n",
        "                      'Total' as area, \n",
        "                      count(distinct v.id) \n",
        "                  from public.vacancies v\n",
        "                  left join public.areas a on a.id = v.area_id\n",
        "                  left join public.employers e on e.id = v.employer_id\n",
        "                  where e.name = 'Яндекс' \n",
        "                  and a.name in ({cities_str})\n",
        "              '''"
      ]
    },
    {
      "cell_type": "markdown",
      "id": "04966e40-3bc3-4dc8-9ba2-e80580ce3abc",
      "metadata": {
        "id": "04966e40-3bc3-4dc8-9ba2-e80580ce3abc"
      },
      "source": [
        "***"
      ]
    },
    {
      "cell_type": "code",
      "execution_count": 16,
      "id": "830bb0ab",
      "metadata": {},
      "outputs": [
        {
          "name": "stderr",
          "output_type": "stream",
          "text": [
            "/var/folders/n5/r5jp_9sj3wd999vy8hwphb2c0000gn/T/ipykernel_2123/1908858716.py:3: UserWarning: pandas only supports SQLAlchemy connectable (engine/connection) or database string URI or sqlite3 DBAPI2 connection. Other DBAPI2 objects are not tested. Please consider using SQLAlchemy.\n",
            "  areas_yandex = pd.read_sql_query(query_areas, connection)\n",
            "/var/folders/n5/r5jp_9sj3wd999vy8hwphb2c0000gn/T/ipykernel_2123/1908858716.py:4: UserWarning: pandas only supports SQLAlchemy connectable (engine/connection) or database string URI or sqlite3 DBAPI2 connection. Other DBAPI2 objects are not tested. Please consider using SQLAlchemy.\n",
            "  total_vacancies = pd.read_sql_query(query_total, connection)\n"
          ]
        },
        {
          "data": {
            "text/html": [
              "<div>\n",
              "<style scoped>\n",
              "    .dataframe tbody tr th:only-of-type {\n",
              "        vertical-align: middle;\n",
              "    }\n",
              "\n",
              "    .dataframe tbody tr th {\n",
              "        vertical-align: top;\n",
              "    }\n",
              "\n",
              "    .dataframe thead th {\n",
              "        text-align: right;\n",
              "    }\n",
              "</style>\n",
              "<table border=\"1\" class=\"dataframe\">\n",
              "  <thead>\n",
              "    <tr style=\"text-align: right;\">\n",
              "      <th></th>\n",
              "      <th>area</th>\n",
              "      <th>count</th>\n",
              "    </tr>\n",
              "  </thead>\n",
              "  <tbody>\n",
              "    <tr>\n",
              "      <th>0</th>\n",
              "      <td>Омск</td>\n",
              "      <td>21</td>\n",
              "    </tr>\n",
              "    <tr>\n",
              "      <th>1</th>\n",
              "      <td>Челябинск</td>\n",
              "      <td>22</td>\n",
              "    </tr>\n",
              "    <tr>\n",
              "      <th>2</th>\n",
              "      <td>Красноярск</td>\n",
              "      <td>23</td>\n",
              "    </tr>\n",
              "    <tr>\n",
              "      <th>3</th>\n",
              "      <td>Волгоград</td>\n",
              "      <td>24</td>\n",
              "    </tr>\n",
              "    <tr>\n",
              "      <th>4</th>\n",
              "      <td>Пермь</td>\n",
              "      <td>25</td>\n",
              "    </tr>\n",
              "    <tr>\n",
              "      <th>5</th>\n",
              "      <td>Казань</td>\n",
              "      <td>25</td>\n",
              "    </tr>\n",
              "    <tr>\n",
              "      <th>6</th>\n",
              "      <td>Ростов-на-Дону</td>\n",
              "      <td>25</td>\n",
              "    </tr>\n",
              "    <tr>\n",
              "      <th>7</th>\n",
              "      <td>Уфа</td>\n",
              "      <td>26</td>\n",
              "    </tr>\n",
              "    <tr>\n",
              "      <th>8</th>\n",
              "      <td>Самара</td>\n",
              "      <td>26</td>\n",
              "    </tr>\n",
              "    <tr>\n",
              "      <th>9</th>\n",
              "      <td>Краснодар</td>\n",
              "      <td>30</td>\n",
              "    </tr>\n",
              "    <tr>\n",
              "      <th>10</th>\n",
              "      <td>Воронеж</td>\n",
              "      <td>32</td>\n",
              "    </tr>\n",
              "    <tr>\n",
              "      <th>11</th>\n",
              "      <td>Новосибирск</td>\n",
              "      <td>35</td>\n",
              "    </tr>\n",
              "    <tr>\n",
              "      <th>12</th>\n",
              "      <td>Нижний Новгород</td>\n",
              "      <td>36</td>\n",
              "    </tr>\n",
              "    <tr>\n",
              "      <th>13</th>\n",
              "      <td>Екатеринбург</td>\n",
              "      <td>39</td>\n",
              "    </tr>\n",
              "    <tr>\n",
              "      <th>14</th>\n",
              "      <td>Санкт-Петербург</td>\n",
              "      <td>42</td>\n",
              "    </tr>\n",
              "    <tr>\n",
              "      <th>15</th>\n",
              "      <td>Москва</td>\n",
              "      <td>54</td>\n",
              "    </tr>\n",
              "    <tr>\n",
              "      <th>16</th>\n",
              "      <td>Total</td>\n",
              "      <td>485</td>\n",
              "    </tr>\n",
              "  </tbody>\n",
              "</table>\n",
              "</div>"
            ],
            "text/plain": [
              "               area  count\n",
              "0              Омск     21\n",
              "1         Челябинск     22\n",
              "2        Красноярск     23\n",
              "3         Волгоград     24\n",
              "4             Пермь     25\n",
              "5            Казань     25\n",
              "6    Ростов-на-Дону     25\n",
              "7               Уфа     26\n",
              "8            Самара     26\n",
              "9         Краснодар     30\n",
              "10          Воронеж     32\n",
              "11      Новосибирск     35\n",
              "12  Нижний Новгород     36\n",
              "13     Екатеринбург     39\n",
              "14  Санкт-Петербург     42\n",
              "15           Москва     54\n",
              "16            Total    485"
            ]
          },
          "execution_count": 16,
          "metadata": {},
          "output_type": "execute_result"
        }
      ],
      "source": [
        "# результат запроса\n",
        "# Выполнение запросов\n",
        "areas_yandex = pd.read_sql_query(query_areas, connection)\n",
        "total_vacancies = pd.read_sql_query(query_total, connection)\n",
        "\n",
        "# Добавление строки с Total с помощью pd.concat\n",
        "areas_yandex = pd.concat([areas_yandex, total_vacancies], ignore_index=True)\n",
        "\n",
        "\n",
        "areas_yandex"
      ]
    },
    {
      "cell_type": "markdown",
      "id": "a7786a7e",
      "metadata": {},
      "source": [
        "*ВЫВОДЫ:* \n",
        "\n",
        "*ТОП-5 работодателей по количеству размещенных вакансий: Яндекс, Ростелеком, Тинькофф, СБЕР и Газпром нефть.*  \n",
        "*Причем количество заявок, размещенных Яндексом, почти в 5 раз больше, чем у других компаний в ТОП-5.*\n",
        "\n",
        "*ТОП-5 регионов по количеству работодателей, разместивших вакансии: Москва, Санкт-Петербург, Минск, Новосибирск, Алматы.*  \n",
        "*Совпадает с рейтингом ТОП-5 регионов по количеству вакансий.*   \n",
        "*Примечательно наличие регионов, в которых большое количество работодателей, но нет вакансий, например, Россия и Казахстан. Вероятно, это обобщающие названия, которые дублируют существующие более конкретные регионы-города, поэтому возможно их стоит исключить из выборки, как потенциальные выбросы.*  \n",
        "\n",
        "*ТОП-3 работодателей по количеству регионов, в которых они публикуют вакансии: Яндекс (181), Ростелеком (152), Спецремонт (116).*  \n",
        "*Существует ряд работодателей, у которых не указан ни один регион.*  \n",
        "\n",
        "*У 35% работодателей не указана сфера деятельности.*  \n",
        "\n",
        "*У 15% работодателей в качестве сферы деятельности указана «Разработка программного обеспечения».*  \n",
        "\n",
        "*Среди всех работодателей Яндекс является лидером по количеству размещенных вакансий и количеству регионов, в которых вакансии размещены. Вакансии компании размещены в 17 регионах-миллионниках, в общем количестве 485 вакансий. ТОП-5 регионов-миллионников, в которых Яндекс разместил вакансии: Москва, Санкт-Петербург, Екатеринбург, Нижний Новгород, Новосибирск.*\n"
      ]
    },
    {
      "cell_type": "markdown",
      "id": "b1ef156a-efcb-49ce-bb23-90763e7f35b2",
      "metadata": {
        "id": "b1ef156a-efcb-49ce-bb23-90763e7f35b2",
        "tags": []
      },
      "source": [
        "# Юнит 6. Предметный анализ"
      ]
    },
    {
      "cell_type": "markdown",
      "id": "b9cd50a0-992d-4988-8463-2b2b1c4629b4",
      "metadata": {
        "id": "b9cd50a0-992d-4988-8463-2b2b1c4629b4"
      },
      "source": [
        "1. Сколько вакансий имеет отношение к данным?\n",
        "\n",
        "Считаем, что вакансия имеет отношение к данным, если в её названии содержатся слова 'data' или 'данн'.\n",
        "\n",
        "*Подсказка: Обратите внимание, что названия вакансий могут быть написаны в любом регистре.* \n"
      ]
    },
    {
      "cell_type": "code",
      "execution_count": 23,
      "id": "4b74e4a3",
      "metadata": {},
      "outputs": [],
      "source": [
        "# текст запроса\n",
        "query_6_1 = f'''select\n",
        "                    count(*) vacancies_related_to_data                                                         \n",
        "                from public.vacancies            \n",
        "                where lower(name) like '%data%'\n",
        "                    or lower(name) like '%данн%'          \n",
        "            '''"
      ]
    },
    {
      "cell_type": "code",
      "execution_count": 24,
      "id": "9F1meAqsuUjd",
      "metadata": {
        "id": "9F1meAqsuUjd"
      },
      "outputs": [
        {
          "name": "stderr",
          "output_type": "stream",
          "text": [
            "/var/folders/n5/r5jp_9sj3wd999vy8hwphb2c0000gn/T/ipykernel_1162/1467411124.py:2: UserWarning: pandas only supports SQLAlchemy connectable (engine/connection) or database string URI or sqlite3 DBAPI2 connection. Other DBAPI2 objects are not tested. Please consider using SQLAlchemy.\n",
            "  data_related_vac = pd.read_sql_query(query_6_1, connection)\n"
          ]
        },
        {
          "data": {
            "text/html": [
              "<div>\n",
              "<style scoped>\n",
              "    .dataframe tbody tr th:only-of-type {\n",
              "        vertical-align: middle;\n",
              "    }\n",
              "\n",
              "    .dataframe tbody tr th {\n",
              "        vertical-align: top;\n",
              "    }\n",
              "\n",
              "    .dataframe thead th {\n",
              "        text-align: right;\n",
              "    }\n",
              "</style>\n",
              "<table border=\"1\" class=\"dataframe\">\n",
              "  <thead>\n",
              "    <tr style=\"text-align: right;\">\n",
              "      <th></th>\n",
              "      <th>vacancies_related_to_data</th>\n",
              "    </tr>\n",
              "  </thead>\n",
              "  <tbody>\n",
              "    <tr>\n",
              "      <th>0</th>\n",
              "      <td>1771</td>\n",
              "    </tr>\n",
              "  </tbody>\n",
              "</table>\n",
              "</div>"
            ],
            "text/plain": [
              "   vacancies_related_to_data\n",
              "0                       1771"
            ]
          },
          "execution_count": 24,
          "metadata": {},
          "output_type": "execute_result"
        }
      ],
      "source": [
        "# результат запроса\n",
        "data_related_vac = pd.read_sql_query(query_6_1, connection)\n",
        "\n",
        "data_related_vac"
      ]
    },
    {
      "cell_type": "markdown",
      "id": "4dea20cb-a36b-474a-a0b9-e08e8e3857a5",
      "metadata": {
        "id": "4dea20cb-a36b-474a-a0b9-e08e8e3857a5"
      },
      "source": [
        "2. Сколько есть подходящих вакансий для начинающего дата-сайентиста? \n",
        "Будем считать вакансиями для дата-сайентистов такие, в названии которых есть хотя бы одно из следующих сочетаний:\n",
        "* 'data scientist'\n",
        "* 'data science'\n",
        "* 'исследователь данных'\n",
        "* 'ML' (здесь не нужно брать вакансии по HTML)\n",
        "* 'machine learning'\n",
        "* 'машинн%обучен%'\n",
        "\n",
        "** В следующих заданиях мы продолжим работать с вакансиями по этому условию.*\n",
        "\n",
        "Считаем вакансиями для специалистов уровня Junior следующие:\n",
        "* в названии есть слово 'junior' *или*\n",
        "* требуемый опыт — Нет опыта *или*\n",
        "* тип трудоустройства — Стажировка.\n",
        " "
      ]
    },
    {
      "cell_type": "code",
      "execution_count": 27,
      "id": "421a68f1",
      "metadata": {},
      "outputs": [],
      "source": [
        "# текст запроса\n",
        "query_6_2 = f'''select\n",
        "                    count(*) as junior_data_scientist_vacancies                                                         \n",
        "                from public.vacancies            \n",
        "                where (\n",
        "                    lower(name) like '%data scientist%'\n",
        "                    or lower(name) like '%data science%'\n",
        "                    or lower(name) like '%исследователь данных%'\n",
        "                    or (lower(name) like '%ml%' and lower(name) not like '%html%')\n",
        "                    or lower(name) like '%machine learning%'\n",
        "                    or lower(name) like '%машинн%обучен%'\n",
        "                )\n",
        "                and (\n",
        "                    lower(name) like '%junior%'\n",
        "                    or lower(experience) = 'нет опыта'\n",
        "                    or lower(employment) = 'стажировка'\n",
        "                )\n",
        "            '''        "
      ]
    },
    {
      "cell_type": "code",
      "execution_count": 28,
      "id": "ZNM-LLYuu1dj",
      "metadata": {
        "id": "ZNM-LLYuu1dj"
      },
      "outputs": [
        {
          "name": "stderr",
          "output_type": "stream",
          "text": [
            "/var/folders/n5/r5jp_9sj3wd999vy8hwphb2c0000gn/T/ipykernel_1162/1070639745.py:2: UserWarning: pandas only supports SQLAlchemy connectable (engine/connection) or database string URI or sqlite3 DBAPI2 connection. Other DBAPI2 objects are not tested. Please consider using SQLAlchemy.\n",
            "  data_science_junior = pd.read_sql_query(query_6_2, connection)\n"
          ]
        },
        {
          "data": {
            "text/html": [
              "<div>\n",
              "<style scoped>\n",
              "    .dataframe tbody tr th:only-of-type {\n",
              "        vertical-align: middle;\n",
              "    }\n",
              "\n",
              "    .dataframe tbody tr th {\n",
              "        vertical-align: top;\n",
              "    }\n",
              "\n",
              "    .dataframe thead th {\n",
              "        text-align: right;\n",
              "    }\n",
              "</style>\n",
              "<table border=\"1\" class=\"dataframe\">\n",
              "  <thead>\n",
              "    <tr style=\"text-align: right;\">\n",
              "      <th></th>\n",
              "      <th>junior_data_scientist_vacancies</th>\n",
              "    </tr>\n",
              "  </thead>\n",
              "  <tbody>\n",
              "    <tr>\n",
              "      <th>0</th>\n",
              "      <td>51</td>\n",
              "    </tr>\n",
              "  </tbody>\n",
              "</table>\n",
              "</div>"
            ],
            "text/plain": [
              "   junior_data_scientist_vacancies\n",
              "0                               51"
            ]
          },
          "execution_count": 28,
          "metadata": {},
          "output_type": "execute_result"
        }
      ],
      "source": [
        "# результат запроса\n",
        "data_science_junior = pd.read_sql_query(query_6_2, connection)\n",
        "\n",
        "data_science_junior"
      ]
    },
    {
      "cell_type": "markdown",
      "id": "eedceb80-c5ca-480e-b27a-278dfb8b4438",
      "metadata": {
        "id": "eedceb80-c5ca-480e-b27a-278dfb8b4438"
      },
      "source": [
        "3. Сколько есть вакансий для DS, в которых в качестве ключевого навыка указан SQL или postgres?\n",
        "\n",
        "** Критерии для отнесения вакансии к DS указаны в предыдущем задании.*"
      ]
    },
    {
      "cell_type": "code",
      "execution_count": 34,
      "id": "b5290c2a",
      "metadata": {},
      "outputs": [],
      "source": [
        "# текст запроса\n",
        "query_6_3 = f'''select\n",
        "                    count(*) as ds_vacancies_with_sql                                                         \n",
        "                from public.vacancies\n",
        "                where (\n",
        "                    lower(name) like '%data scientist%'\n",
        "                    or lower(name) like '%data science%'\n",
        "                    or lower(name) like '%исследователь данных%'\n",
        "                    or (lower(name) like '%ml%' and lower(name) not like '%html%')\n",
        "                    or lower(name) like '%machine learning%'\n",
        "                    or lower(name) like '%машинн%обучен%'\n",
        "                )\n",
        "                and (\n",
        "                    lower(key_skills) like '%sql%'\n",
        "                    or lower(key_skills) like '%postgres%'\n",
        "                )\n",
        "                '''"
      ]
    },
    {
      "cell_type": "code",
      "execution_count": 35,
      "id": "alA8WEAAvGdf",
      "metadata": {
        "id": "alA8WEAAvGdf"
      },
      "outputs": [
        {
          "name": "stderr",
          "output_type": "stream",
          "text": [
            "/var/folders/n5/r5jp_9sj3wd999vy8hwphb2c0000gn/T/ipykernel_1162/1272272003.py:2: UserWarning: pandas only supports SQLAlchemy connectable (engine/connection) or database string URI or sqlite3 DBAPI2 connection. Other DBAPI2 objects are not tested. Please consider using SQLAlchemy.\n",
            "  data_science_sql = pd.read_sql_query(query_6_3, connection)\n"
          ]
        },
        {
          "data": {
            "text/html": [
              "<div>\n",
              "<style scoped>\n",
              "    .dataframe tbody tr th:only-of-type {\n",
              "        vertical-align: middle;\n",
              "    }\n",
              "\n",
              "    .dataframe tbody tr th {\n",
              "        vertical-align: top;\n",
              "    }\n",
              "\n",
              "    .dataframe thead th {\n",
              "        text-align: right;\n",
              "    }\n",
              "</style>\n",
              "<table border=\"1\" class=\"dataframe\">\n",
              "  <thead>\n",
              "    <tr style=\"text-align: right;\">\n",
              "      <th></th>\n",
              "      <th>ds_vacancies_with_sql</th>\n",
              "    </tr>\n",
              "  </thead>\n",
              "  <tbody>\n",
              "    <tr>\n",
              "      <th>0</th>\n",
              "      <td>229</td>\n",
              "    </tr>\n",
              "  </tbody>\n",
              "</table>\n",
              "</div>"
            ],
            "text/plain": [
              "   ds_vacancies_with_sql\n",
              "0                    229"
            ]
          },
          "execution_count": 35,
          "metadata": {},
          "output_type": "execute_result"
        }
      ],
      "source": [
        "# результат запроса\n",
        "data_science_sql = pd.read_sql_query(query_6_3, connection)\n",
        "\n",
        "data_science_sql"
      ]
    },
    {
      "cell_type": "markdown",
      "id": "1be1e9c6-37cf-4a5f-bfeb-04cab799dc80",
      "metadata": {
        "id": "1be1e9c6-37cf-4a5f-bfeb-04cab799dc80"
      },
      "source": [
        "4. Проверьте, насколько популярен Python в требованиях работодателей к DS.Для этого вычислите количество вакансий, в которых в качестве ключевого навыка указан Python.\n",
        "\n",
        "** Это можно сделать помощью запроса, аналогичного предыдущему.*"
      ]
    },
    {
      "cell_type": "code",
      "execution_count": 36,
      "id": "0036a355-9ccf-4564-8b01-73d8194297e7",
      "metadata": {
        "id": "0036a355-9ccf-4564-8b01-73d8194297e7"
      },
      "outputs": [],
      "source": [
        "# текст запроса\n",
        "query_6_4 = f'''select\n",
        "                    count(*) as ds_vacancies_with_python                                                         \n",
        "                from public.vacancies\n",
        "                where (\n",
        "                    lower(name) like '%data scientist%'\n",
        "                    or lower(name) like '%data science%'\n",
        "                    or lower(name) like '%исследователь данных%'\n",
        "                    or (lower(name) like '%ml%' and lower(name) not like '%html%')\n",
        "                    or lower(name) like '%machine learning%'\n",
        "                    or lower(name) like '%машинн%обучен%'\n",
        "                )\n",
        "                and lower(key_skills) like '%python%'\n",
        "                '''"
      ]
    },
    {
      "cell_type": "code",
      "execution_count": 37,
      "id": "1i-5WyucvQ6v",
      "metadata": {
        "id": "1i-5WyucvQ6v"
      },
      "outputs": [
        {
          "name": "stderr",
          "output_type": "stream",
          "text": [
            "/var/folders/n5/r5jp_9sj3wd999vy8hwphb2c0000gn/T/ipykernel_1162/1090713722.py:2: UserWarning: pandas only supports SQLAlchemy connectable (engine/connection) or database string URI or sqlite3 DBAPI2 connection. Other DBAPI2 objects are not tested. Please consider using SQLAlchemy.\n",
            "  data_science_python = pd.read_sql_query(query_6_4, connection)\n"
          ]
        },
        {
          "data": {
            "text/html": [
              "<div>\n",
              "<style scoped>\n",
              "    .dataframe tbody tr th:only-of-type {\n",
              "        vertical-align: middle;\n",
              "    }\n",
              "\n",
              "    .dataframe tbody tr th {\n",
              "        vertical-align: top;\n",
              "    }\n",
              "\n",
              "    .dataframe thead th {\n",
              "        text-align: right;\n",
              "    }\n",
              "</style>\n",
              "<table border=\"1\" class=\"dataframe\">\n",
              "  <thead>\n",
              "    <tr style=\"text-align: right;\">\n",
              "      <th></th>\n",
              "      <th>ds_vacancies_with_python</th>\n",
              "    </tr>\n",
              "  </thead>\n",
              "  <tbody>\n",
              "    <tr>\n",
              "      <th>0</th>\n",
              "      <td>357</td>\n",
              "    </tr>\n",
              "  </tbody>\n",
              "</table>\n",
              "</div>"
            ],
            "text/plain": [
              "   ds_vacancies_with_python\n",
              "0                       357"
            ]
          },
          "execution_count": 37,
          "metadata": {},
          "output_type": "execute_result"
        }
      ],
      "source": [
        "# результат запроса\n",
        "data_science_python = pd.read_sql_query(query_6_4, connection)\n",
        "\n",
        "data_science_python"
      ]
    },
    {
      "cell_type": "markdown",
      "id": "ec3c8db7-fa21-4a41-a994-1af63742a642",
      "metadata": {
        "id": "ec3c8db7-fa21-4a41-a994-1af63742a642"
      },
      "source": [
        "5. Сколько ключевых навыков в среднем указывают в вакансиях для DS?\n",
        "Ответ округлите до двух знаков после точки-разделителя."
      ]
    },
    {
      "cell_type": "code",
      "execution_count": 51,
      "id": "949132bc-d5b6-4611-8218-0b9a504d74f4",
      "metadata": {
        "id": "949132bc-d5b6-4611-8218-0b9a504d74f4"
      },
      "outputs": [],
      "source": [
        "# текст запроса\n",
        "query_6_5 = f'''select                     \n",
        "                    round(\n",
        "                    avg(length(key_skills) - length(replace(key_skills, chr(9), '')) + 1), 2\n",
        "                ) as avg_skills_per_ds_vacancy\n",
        "                from public.vacancies\n",
        "                where (\n",
        "                    lower(name) like '%data scientist%'\n",
        "                    or lower(name) like '%data science%'\n",
        "                    or lower(name) like '%исследователь данных%'\n",
        "                    or (lower(name) like '%ml%' and lower(name) not like '%html%')\n",
        "                    or lower(name) like '%machine learning%'\n",
        "                    or lower(name) like '%машинн%обучен%'\n",
        "                )\n",
        "                and key_skills is not null                \n",
        "                '''"
      ]
    },
    {
      "cell_type": "code",
      "execution_count": 52,
      "id": "a3V24Tvmviqk",
      "metadata": {
        "id": "a3V24Tvmviqk"
      },
      "outputs": [
        {
          "name": "stderr",
          "output_type": "stream",
          "text": [
            "/var/folders/n5/r5jp_9sj3wd999vy8hwphb2c0000gn/T/ipykernel_1162/3692389598.py:2: UserWarning: pandas only supports SQLAlchemy connectable (engine/connection) or database string URI or sqlite3 DBAPI2 connection. Other DBAPI2 objects are not tested. Please consider using SQLAlchemy.\n",
            "  ds_key_skills = pd.read_sql_query(query_6_5, connection)\n"
          ]
        },
        {
          "data": {
            "text/html": [
              "<div>\n",
              "<style scoped>\n",
              "    .dataframe tbody tr th:only-of-type {\n",
              "        vertical-align: middle;\n",
              "    }\n",
              "\n",
              "    .dataframe tbody tr th {\n",
              "        vertical-align: top;\n",
              "    }\n",
              "\n",
              "    .dataframe thead th {\n",
              "        text-align: right;\n",
              "    }\n",
              "</style>\n",
              "<table border=\"1\" class=\"dataframe\">\n",
              "  <thead>\n",
              "    <tr style=\"text-align: right;\">\n",
              "      <th></th>\n",
              "      <th>avg_skills_per_ds_vacancy</th>\n",
              "    </tr>\n",
              "  </thead>\n",
              "  <tbody>\n",
              "    <tr>\n",
              "      <th>0</th>\n",
              "      <td>6.55</td>\n",
              "    </tr>\n",
              "  </tbody>\n",
              "</table>\n",
              "</div>"
            ],
            "text/plain": [
              "   avg_skills_per_ds_vacancy\n",
              "0                       6.55"
            ]
          },
          "execution_count": 52,
          "metadata": {},
          "output_type": "execute_result"
        }
      ],
      "source": [
        "# результат запроса\n",
        "ds_key_skills = pd.read_sql_query(query_6_5, connection)\n",
        "\n",
        "ds_key_skills"
      ]
    },
    {
      "cell_type": "markdown",
      "id": "1041c17a-ca8f-4543-a0ca-32778914fb00",
      "metadata": {
        "id": "1041c17a-ca8f-4543-a0ca-32778914fb00"
      },
      "source": [
        "6. Напишите запрос, позволяющий вычислить, какую зарплату для DS в **среднем** указывают для каждого типа требуемого опыта (уникальное значение из поля *experience*). \n",
        "\n",
        "При решении задачи примите во внимание следующее:\n",
        "1. Рассматриваем только вакансии, у которых заполнено хотя бы одно из двух полей с зарплатой.\n",
        "2. Если заполнены оба поля с зарплатой, то считаем зарплату по каждой вакансии как сумму двух полей, делённую на 2. Если заполнено только одно из полей, то его и считаем зарплатой по вакансии.\n",
        "3. Если в расчётах участвует null, в результате он тоже даст null (посмотрите, что возвращает запрос select 1 + null). Чтобы избежать этой ситуацию, мы воспользуемся функцией [coalesce](https://postgrespro.ru/docs/postgresql/9.5/functions-conditional#functions-coalesce-nvl-ifnull), которая заменит null на значение, которое мы передадим. Например, посмотрите, что возвращает запрос `select 1 + coalesce(null, 0)`\n",
        "\n",
        "Выясните, на какую зарплату в среднем может рассчитывать дата-сайентист с опытом работы от 3 до 6 лет. Результат округлите до целого числа. "
      ]
    },
    {
      "cell_type": "code",
      "execution_count": 67,
      "id": "6a743d39-5204-48d3-8271-b9f88e68d40e",
      "metadata": {
        "id": "6a743d39-5204-48d3-8271-b9f88e68d40e"
      },
      "outputs": [],
      "source": [
        "# текст запроса\n",
        "query_6_6 = f'''select \n",
        "                    experience,                    \n",
        "                    round(avg(\n",
        "                            (coalesce(salary_from, salary_to) + coalesce(salary_to, salary_from)) / 2\n",
        "                        ), 0) as avg_salary\n",
        "                    from public.vacancies\n",
        "                    where (\n",
        "                        lower(name) like '%data scientist%'\n",
        "                        or lower(name) like '%data science%'\n",
        "                        or lower(name) like '%исследователь данных%'\n",
        "                        or (lower(name) like '%ml%' and lower(name) not like '%html%')\n",
        "                        or lower(name) like '%machine learning%'\n",
        "                        or lower(name) like '%машинн%обучен%'\n",
        "                    )\n",
        "                    and (salary_from is not null or salary_to is not null)\n",
        "                    group by experience\n",
        "                    order by avg_salary desc             \n",
        "                '''"
      ]
    },
    {
      "cell_type": "code",
      "execution_count": 68,
      "id": "aRIJ0mZEwU1_",
      "metadata": {
        "id": "aRIJ0mZEwU1_"
      },
      "outputs": [
        {
          "name": "stderr",
          "output_type": "stream",
          "text": [
            "/var/folders/n5/r5jp_9sj3wd999vy8hwphb2c0000gn/T/ipykernel_1162/223423010.py:2: UserWarning: pandas only supports SQLAlchemy connectable (engine/connection) or database string URI or sqlite3 DBAPI2 connection. Other DBAPI2 objects are not tested. Please consider using SQLAlchemy.\n",
            "  ds_av_salary = pd.read_sql_query(query_6_6, connection)\n"
          ]
        },
        {
          "data": {
            "text/html": [
              "<div>\n",
              "<style scoped>\n",
              "    .dataframe tbody tr th:only-of-type {\n",
              "        vertical-align: middle;\n",
              "    }\n",
              "\n",
              "    .dataframe tbody tr th {\n",
              "        vertical-align: top;\n",
              "    }\n",
              "\n",
              "    .dataframe thead th {\n",
              "        text-align: right;\n",
              "    }\n",
              "</style>\n",
              "<table border=\"1\" class=\"dataframe\">\n",
              "  <thead>\n",
              "    <tr style=\"text-align: right;\">\n",
              "      <th></th>\n",
              "      <th>experience</th>\n",
              "      <th>avg_salary</th>\n",
              "    </tr>\n",
              "  </thead>\n",
              "  <tbody>\n",
              "    <tr>\n",
              "      <th>0</th>\n",
              "      <td>От 3 до 6 лет</td>\n",
              "      <td>256454.0</td>\n",
              "    </tr>\n",
              "    <tr>\n",
              "      <th>1</th>\n",
              "      <td>Более 6 лет</td>\n",
              "      <td>157933.0</td>\n",
              "    </tr>\n",
              "    <tr>\n",
              "      <th>2</th>\n",
              "      <td>От 1 года до 3 лет</td>\n",
              "      <td>144233.0</td>\n",
              "    </tr>\n",
              "    <tr>\n",
              "      <th>3</th>\n",
              "      <td>Нет опыта</td>\n",
              "      <td>74643.0</td>\n",
              "    </tr>\n",
              "  </tbody>\n",
              "</table>\n",
              "</div>"
            ],
            "text/plain": [
              "           experience  avg_salary\n",
              "0       От 3 до 6 лет    256454.0\n",
              "1         Более 6 лет    157933.0\n",
              "2  От 1 года до 3 лет    144233.0\n",
              "3           Нет опыта     74643.0"
            ]
          },
          "execution_count": 68,
          "metadata": {},
          "output_type": "execute_result"
        }
      ],
      "source": [
        "# результат запроса\n",
        "ds_av_salary = pd.read_sql_query(query_6_6, connection)\n",
        "\n",
        "ds_av_salary"
      ]
    },
    {
      "cell_type": "markdown",
      "id": "6a7892b4-4113-4746-adce-18aa2844f18e",
      "metadata": {
        "id": "6a7892b4-4113-4746-adce-18aa2844f18e"
      },
      "source": [
        "***"
      ]
    },
    {
      "cell_type": "markdown",
      "id": "11ea3eae",
      "metadata": {},
      "source": [
        "*ВЫВОДЫ:* \n",
        "\n",
        "*1771 вакансии имеют отношение к данным, что около 3,5% от всех вакансий. Из них 51 вакансия (3%) - для начинающего дата-сайентиста.*  \n",
        "\n",
        "*229 вакансий для DS (13%), в которых в качестве ключевого навыка указан SQL, и 357 вакансий (20%), в которых в качестве ключевого навыка указан Python.*  \n",
        "\n",
        "*Работодатели указывают в среднем порядка 6 ключевых навыков в вакансиях для DS.*   \n",
        "\n",
        "*Средняя зарплата для DS варьируется от 74600 руб., для специалистов без опыта, до 256400 руб., для специалистов с опытом от 3 до 6 лет.*  \n",
        "\n",
        "*Примечательно, что средняя зарплата для специалистов с опытом от 3 до 6 лет (256400 руб.) значительно выше, чем средняя зарплата для специалистов с опытом более 6 лет (158000 руб.). Это может быть связано со смещением по выборке: в базе данных немного вакансий для специалистов с опытом более 6 лет (3% от общего количества) — а те, что есть, возможно, в компаниях с более скромными бюджетами (например, госструктуры или небольшие IT-компании). Для категории \"от 3 до 6 лет\" наоборот — часто охотятся за middle/senior-специалистами с хорошей технической базой, и их активно переманивают, предлагая высокие зарплаты.*\n"
      ]
    },
    {
      "cell_type": "markdown",
      "id": "f904f148",
      "metadata": {},
      "source": [
        "# Юнит 7.  Дополнительные исследования по проекту"
      ]
    },
    {
      "cell_type": "markdown",
      "id": "6561fd0a",
      "metadata": {},
      "source": [
        "1. Сравнение регионов по уровню зарплат для DS-специалистов.\n",
        "\n",
        "Задача: посчитать среднюю зарплату по каждому региону только для DS-вакансий.\n",
        "\n",
        "*Этот запрос показывает, в каких регионах работодатели предлагают самые высокие зарплаты для дата-сайентистов, с учетом количества вакансий, участвующих в расчетах.* "
      ]
    },
    {
      "cell_type": "code",
      "execution_count": 16,
      "id": "7b80b79c",
      "metadata": {},
      "outputs": [],
      "source": [
        "# текст запроса\n",
        "query_7_1 = f'''select \n",
        "                    a.name as region,\n",
        "                        count(*) as vacancy_count,\n",
        "                        round(avg((coalesce(v.salary_from, v.salary_to) + coalesce(v.salary_to, v.salary_from)) / 2.0), 0) as avg_ds_salary\n",
        "                    from public.vacancies v\n",
        "                    join public.areas a on v.area_id = a.id\n",
        "                    where (\n",
        "                        lower(v.name) like '%data scientist%'\n",
        "                        or lower(v.name) like '%data science%'\n",
        "                        or lower(v.name) like '%исследователь данных%'\n",
        "                        or (lower(v.name) like '%ml%' and lower(v.name) not like '%html%')\n",
        "                        or lower(v.name) like '%machine learning%'\n",
        "                        or lower(v.name) like '%машинн%обучен%'\n",
        "                    )\n",
        "                    and (v.salary_from is not null or v.salary_to is not null)\n",
        "                    group by a.name\n",
        "                    order by vacancy_count desc, avg_ds_salary desc \n",
        "                    limit 13   \n",
        "                '''"
      ]
    },
    {
      "cell_type": "code",
      "execution_count": 17,
      "id": "522babcd",
      "metadata": {},
      "outputs": [
        {
          "name": "stderr",
          "output_type": "stream",
          "text": [
            "/var/folders/n5/r5jp_9sj3wd999vy8hwphb2c0000gn/T/ipykernel_950/3215337529.py:2: UserWarning: pandas only supports SQLAlchemy connectable (engine/connection) or database string URI or sqlite3 DBAPI2 connection. Other DBAPI2 objects are not tested. Please consider using SQLAlchemy.\n",
            "  ds_salary_by_area = pd.read_sql_query(query_7_1, connection)\n"
          ]
        },
        {
          "data": {
            "text/html": [
              "<div>\n",
              "<style scoped>\n",
              "    .dataframe tbody tr th:only-of-type {\n",
              "        vertical-align: middle;\n",
              "    }\n",
              "\n",
              "    .dataframe tbody tr th {\n",
              "        vertical-align: top;\n",
              "    }\n",
              "\n",
              "    .dataframe thead th {\n",
              "        text-align: right;\n",
              "    }\n",
              "</style>\n",
              "<table border=\"1\" class=\"dataframe\">\n",
              "  <thead>\n",
              "    <tr style=\"text-align: right;\">\n",
              "      <th></th>\n",
              "      <th>region</th>\n",
              "      <th>vacancy_count</th>\n",
              "      <th>avg_ds_salary</th>\n",
              "    </tr>\n",
              "  </thead>\n",
              "  <tbody>\n",
              "    <tr>\n",
              "      <th>0</th>\n",
              "      <td>Москва</td>\n",
              "      <td>29</td>\n",
              "      <td>214000.0</td>\n",
              "    </tr>\n",
              "    <tr>\n",
              "      <th>1</th>\n",
              "      <td>Санкт-Петербург</td>\n",
              "      <td>9</td>\n",
              "      <td>183150.0</td>\n",
              "    </tr>\n",
              "    <tr>\n",
              "      <th>2</th>\n",
              "      <td>Рязань</td>\n",
              "      <td>4</td>\n",
              "      <td>127500.0</td>\n",
              "    </tr>\n",
              "    <tr>\n",
              "      <th>3</th>\n",
              "      <td>Армения</td>\n",
              "      <td>3</td>\n",
              "      <td>268863.0</td>\n",
              "    </tr>\n",
              "    <tr>\n",
              "      <th>4</th>\n",
              "      <td>Ростов-на-Дону</td>\n",
              "      <td>3</td>\n",
              "      <td>241667.0</td>\n",
              "    </tr>\n",
              "    <tr>\n",
              "      <th>5</th>\n",
              "      <td>Новосибирск</td>\n",
              "      <td>3</td>\n",
              "      <td>166333.0</td>\n",
              "    </tr>\n",
              "    <tr>\n",
              "      <th>6</th>\n",
              "      <td>Казань</td>\n",
              "      <td>3</td>\n",
              "      <td>161833.0</td>\n",
              "    </tr>\n",
              "    <tr>\n",
              "      <th>7</th>\n",
              "      <td>Екатеринбург</td>\n",
              "      <td>3</td>\n",
              "      <td>124000.0</td>\n",
              "    </tr>\n",
              "    <tr>\n",
              "      <th>8</th>\n",
              "      <td>Алматы</td>\n",
              "      <td>3</td>\n",
              "      <td>120013.0</td>\n",
              "    </tr>\n",
              "    <tr>\n",
              "      <th>9</th>\n",
              "      <td>Пермь</td>\n",
              "      <td>3</td>\n",
              "      <td>116667.0</td>\n",
              "    </tr>\n",
              "    <tr>\n",
              "      <th>10</th>\n",
              "      <td>Минск</td>\n",
              "      <td>2</td>\n",
              "      <td>314785.0</td>\n",
              "    </tr>\n",
              "    <tr>\n",
              "      <th>11</th>\n",
              "      <td>Тула</td>\n",
              "      <td>2</td>\n",
              "      <td>175000.0</td>\n",
              "    </tr>\n",
              "    <tr>\n",
              "      <th>12</th>\n",
              "      <td>Владивосток</td>\n",
              "      <td>2</td>\n",
              "      <td>85000.0</td>\n",
              "    </tr>\n",
              "  </tbody>\n",
              "</table>\n",
              "</div>"
            ],
            "text/plain": [
              "             region  vacancy_count  avg_ds_salary\n",
              "0            Москва             29       214000.0\n",
              "1   Санкт-Петербург              9       183150.0\n",
              "2            Рязань              4       127500.0\n",
              "3           Армения              3       268863.0\n",
              "4    Ростов-на-Дону              3       241667.0\n",
              "5       Новосибирск              3       166333.0\n",
              "6            Казань              3       161833.0\n",
              "7      Екатеринбург              3       124000.0\n",
              "8            Алматы              3       120013.0\n",
              "9             Пермь              3       116667.0\n",
              "10            Минск              2       314785.0\n",
              "11             Тула              2       175000.0\n",
              "12      Владивосток              2        85000.0"
            ]
          },
          "execution_count": 17,
          "metadata": {},
          "output_type": "execute_result"
        }
      ],
      "source": [
        "# результат запроса\n",
        "ds_salary_by_area = pd.read_sql_query(query_7_1, connection)\n",
        "\n",
        "ds_salary_by_area"
      ]
    },
    {
      "cell_type": "markdown",
      "id": "674daf5e",
      "metadata": {},
      "source": [
        "2. ТОП-10 наиболее часто встречающихся навыков в DS-вакансиях.\n",
        "\n",
        "Задача: определить популярные ключевые навыки по вакансиям, относящимся к Data Science."
      ]
    },
    {
      "cell_type": "code",
      "execution_count": 11,
      "id": "37eae7f6",
      "metadata": {},
      "outputs": [],
      "source": [
        "# текст запроса\n",
        "# Переводим каждую строку из key_skills в набор отдельных навыков, один навык — одна строка,\n",
        "# и подсчитываем насколько часто каждый навык встречается.\n",
        "query_7_2 = f'''select \n",
        "                    unnest(string_to_array(lower(key_skills), chr(9))) as skill,\n",
        "                    count(*) as frequency\n",
        "                from public.vacancies\n",
        "                where (\n",
        "                    lower(name) like '%data scientist%'\n",
        "                    or lower(name) like '%data science%'\n",
        "                    or lower(name) like '%исследователь данных%'\n",
        "                    or (lower(name) like '%ml%' and lower(name) not like '%html%')\n",
        "                    or lower(name) like '%machine learning%'\n",
        "                    or lower(name) like '%машинн%обучен%'\n",
        "                )\n",
        "                and key_skills is not null               \n",
        "                group by skill\n",
        "                order by frequency desc\n",
        "                limit 10\n",
        "                '''"
      ]
    },
    {
      "cell_type": "code",
      "execution_count": 13,
      "id": "961bb8fc",
      "metadata": {},
      "outputs": [
        {
          "name": "stderr",
          "output_type": "stream",
          "text": [
            "/var/folders/n5/r5jp_9sj3wd999vy8hwphb2c0000gn/T/ipykernel_866/30539056.py:2: UserWarning: pandas only supports SQLAlchemy connectable (engine/connection) or database string URI or sqlite3 DBAPI2 connection. Other DBAPI2 objects are not tested. Please consider using SQLAlchemy.\n",
            "  key_skills_top_10 = pd.read_sql_query(query_7_2, connection)\n"
          ]
        },
        {
          "data": {
            "text/html": [
              "<div>\n",
              "<style scoped>\n",
              "    .dataframe tbody tr th:only-of-type {\n",
              "        vertical-align: middle;\n",
              "    }\n",
              "\n",
              "    .dataframe tbody tr th {\n",
              "        vertical-align: top;\n",
              "    }\n",
              "\n",
              "    .dataframe thead th {\n",
              "        text-align: right;\n",
              "    }\n",
              "</style>\n",
              "<table border=\"1\" class=\"dataframe\">\n",
              "  <thead>\n",
              "    <tr style=\"text-align: right;\">\n",
              "      <th></th>\n",
              "      <th>skill</th>\n",
              "      <th>frequency</th>\n",
              "    </tr>\n",
              "  </thead>\n",
              "  <tbody>\n",
              "    <tr>\n",
              "      <th>0</th>\n",
              "      <td>python</td>\n",
              "      <td>354</td>\n",
              "    </tr>\n",
              "    <tr>\n",
              "      <th>1</th>\n",
              "      <td>sql</td>\n",
              "      <td>208</td>\n",
              "    </tr>\n",
              "    <tr>\n",
              "      <th>2</th>\n",
              "      <td>machine learning</td>\n",
              "      <td>140</td>\n",
              "    </tr>\n",
              "    <tr>\n",
              "      <th>3</th>\n",
              "      <td>git</td>\n",
              "      <td>81</td>\n",
              "    </tr>\n",
              "    <tr>\n",
              "      <th>4</th>\n",
              "      <td>data science</td>\n",
              "      <td>64</td>\n",
              "    </tr>\n",
              "    <tr>\n",
              "      <th>5</th>\n",
              "      <td>математическая статистика</td>\n",
              "      <td>62</td>\n",
              "    </tr>\n",
              "    <tr>\n",
              "      <th>6</th>\n",
              "      <td>pytorch</td>\n",
              "      <td>61</td>\n",
              "    </tr>\n",
              "    <tr>\n",
              "      <th>7</th>\n",
              "      <td>data analysis</td>\n",
              "      <td>55</td>\n",
              "    </tr>\n",
              "    <tr>\n",
              "      <th>8</th>\n",
              "      <td>pandas</td>\n",
              "      <td>55</td>\n",
              "    </tr>\n",
              "    <tr>\n",
              "      <th>9</th>\n",
              "      <td>linux</td>\n",
              "      <td>53</td>\n",
              "    </tr>\n",
              "  </tbody>\n",
              "</table>\n",
              "</div>"
            ],
            "text/plain": [
              "                       skill  frequency\n",
              "0                     python        354\n",
              "1                        sql        208\n",
              "2           machine learning        140\n",
              "3                        git         81\n",
              "4               data science         64\n",
              "5  математическая статистика         62\n",
              "6                    pytorch         61\n",
              "7              data analysis         55\n",
              "8                     pandas         55\n",
              "9                      linux         53"
            ]
          },
          "execution_count": 13,
          "metadata": {},
          "output_type": "execute_result"
        }
      ],
      "source": [
        "# результат запроса\n",
        "key_skills_top_10 = pd.read_sql_query(query_7_2, connection)\n",
        "\n",
        "key_skills_top_10"
      ]
    },
    {
      "cell_type": "markdown",
      "id": "0da589ac",
      "metadata": {},
      "source": [
        "3. ТОП-10 самых популярных вакансий.\n",
        "\n",
        "Задача: определить наиболее распространённые вакансии в базе данных."
      ]
    },
    {
      "cell_type": "code",
      "execution_count": null,
      "id": "f0aa4d9b",
      "metadata": {},
      "outputs": [],
      "source": [
        "# текст запроса \n",
        "# Считаем сколько раз каждая вакансия встречается в базе и выводим первых 10.\n",
        "query_7_3 = f'''select \n",
        "                    lower(name) as vacancy_name,\n",
        "                    count(*) as vacancy_count\n",
        "                from public.vacancies\n",
        "                group by lower(name)\n",
        "                order by vacancy_count desc\n",
        "                limit 10\n",
        "                '''"
      ]
    },
    {
      "cell_type": "code",
      "execution_count": 25,
      "id": "878c6b1c",
      "metadata": {},
      "outputs": [
        {
          "name": "stderr",
          "output_type": "stream",
          "text": [
            "/var/folders/n5/r5jp_9sj3wd999vy8hwphb2c0000gn/T/ipykernel_866/4204099062.py:2: UserWarning: pandas only supports SQLAlchemy connectable (engine/connection) or database string URI or sqlite3 DBAPI2 connection. Other DBAPI2 objects are not tested. Please consider using SQLAlchemy.\n",
            "  top_vacancies = pd.read_sql_query(query_7_3, connection)\n"
          ]
        },
        {
          "data": {
            "text/html": [
              "<div>\n",
              "<style scoped>\n",
              "    .dataframe tbody tr th:only-of-type {\n",
              "        vertical-align: middle;\n",
              "    }\n",
              "\n",
              "    .dataframe tbody tr th {\n",
              "        vertical-align: top;\n",
              "    }\n",
              "\n",
              "    .dataframe thead th {\n",
              "        text-align: right;\n",
              "    }\n",
              "</style>\n",
              "<table border=\"1\" class=\"dataframe\">\n",
              "  <thead>\n",
              "    <tr style=\"text-align: right;\">\n",
              "      <th></th>\n",
              "      <th>vacancy_name</th>\n",
              "      <th>vacancy_count</th>\n",
              "    </tr>\n",
              "  </thead>\n",
              "  <tbody>\n",
              "    <tr>\n",
              "      <th>0</th>\n",
              "      <td>системный администратор</td>\n",
              "      <td>1762</td>\n",
              "    </tr>\n",
              "    <tr>\n",
              "      <th>1</th>\n",
              "      <td>программист 1с</td>\n",
              "      <td>1168</td>\n",
              "    </tr>\n",
              "    <tr>\n",
              "      <th>2</th>\n",
              "      <td>бизнес-аналитик</td>\n",
              "      <td>492</td>\n",
              "    </tr>\n",
              "    <tr>\n",
              "      <th>3</th>\n",
              "      <td>специалист технической поддержки</td>\n",
              "      <td>457</td>\n",
              "    </tr>\n",
              "    <tr>\n",
              "      <th>4</th>\n",
              "      <td>системный аналитик</td>\n",
              "      <td>434</td>\n",
              "    </tr>\n",
              "    <tr>\n",
              "      <th>5</th>\n",
              "      <td>аналитик</td>\n",
              "      <td>404</td>\n",
              "    </tr>\n",
              "    <tr>\n",
              "      <th>6</th>\n",
              "      <td>инженер-программист</td>\n",
              "      <td>389</td>\n",
              "    </tr>\n",
              "    <tr>\n",
              "      <th>7</th>\n",
              "      <td>программист 1c</td>\n",
              "      <td>360</td>\n",
              "    </tr>\n",
              "    <tr>\n",
              "      <th>8</th>\n",
              "      <td>frontend-разработчик</td>\n",
              "      <td>242</td>\n",
              "    </tr>\n",
              "    <tr>\n",
              "      <th>9</th>\n",
              "      <td>инженер технической поддержки</td>\n",
              "      <td>230</td>\n",
              "    </tr>\n",
              "  </tbody>\n",
              "</table>\n",
              "</div>"
            ],
            "text/plain": [
              "                       vacancy_name  vacancy_count\n",
              "0           системный администратор           1762\n",
              "1                    программист 1с           1168\n",
              "2                   бизнес-аналитик            492\n",
              "3  специалист технической поддержки            457\n",
              "4                системный аналитик            434\n",
              "5                          аналитик            404\n",
              "6               инженер-программист            389\n",
              "7                    программист 1c            360\n",
              "8              frontend-разработчик            242\n",
              "9     инженер технической поддержки            230"
            ]
          },
          "execution_count": 25,
          "metadata": {},
          "output_type": "execute_result"
        }
      ],
      "source": [
        "# результат запроса\n",
        "top_vacancies = pd.read_sql_query(query_7_3, connection)\n",
        "\n",
        "top_vacancies\n"
      ]
    },
    {
      "cell_type": "markdown",
      "id": "c0ED6fh7wiBT",
      "metadata": {
        "id": "c0ED6fh7wiBT"
      },
      "source": [
        "# Общий вывод по проекту"
      ]
    },
    {
      "cell_type": "markdown",
      "id": "8fee537a",
      "metadata": {},
      "source": [
        "Анализ базы данных с вакансиями на платформе HeadHunter выявил ключевые особенности российского IT-рынка труда на момент исследования. Наиболее распространённые вакансии в базе — это **системный администратор**, **программист 1С**, **бизнес-аналитик** и **специалист технической поддержки**, что отражает высокий спрос на специалистов в области поддержки, администрирования и внутренней автоматизации. Вакансии, связанные с анализом данных, встречаются заметно реже.  \n",
        "\n",
        "Из почти **50 тыс. вакансий**, только **3,5% связаны с анализом данных**, что подчеркивает узкую нишевость сферы **Data Science**. Среди них доля вакансий для начинающих специалистов — всего **3%**, что указывает на высокую планку входа и предпочтение работодателей к более опытным кандидатам.\n",
        "\n",
        "Рынок Data Science ориентирован преимущественно на специалистов **с опытом 3–6 лет**, которым предлагаются самые высокие зарплаты (**в среднем 256 400 руб.**). При этом средняя зарплата для специалистов **с опытом более 6 лет** ниже (**158 000 руб.**), что может быть связано с ограниченным числом таких вакансий и потенциальным смещением данных (например, вакансии от госкомпаний или небольших организаций с ограниченным бюджетом).\n",
        "\n",
        "Для сравнения: **средняя указанная зарплатная вилка по всем вакансиям** в базе составляет **71 000 – 110 000 руб.**, что существенно ниже, чем по DS-вакансиям. Это подтверждает, что профессия **Data Scientist** остаётся одной из наиболее высокооплачиваемых на рынке.\n",
        "\n",
        "Анализ региональной дифференциации зарплат **Data Scientist** показал, что лидером по количеству вакансий с указанной зарплатой остаётся **Москва** (**29 вакансий**, средняя зарплата — **214 000 руб.**), за ней следуют **Санкт-Петербург** (**183 150 руб.**) и **Новосибирск** (**166 333 руб.**).\n",
        "\n",
        "В некоторых регионах — например, **Минск** (2 вакансии) и **Армения** (3 вакансии) — предлагаются наивысшие зарплаты (до **314 785 руб.**), однако **малый объём выборки требует осторожного интерпретирования** таких данных. Это подчёркивает важность учёта **количества вакансий** при анализе и сравнении зарплат по регионам.\n",
        "\n",
        "Наиболее востребованные навыки — **Python** и **SQL**, встречающиеся в **20%** и **13%** вакансий соответственно. В среднем работодатели указывают около **6 ключевых навыков** в описании вакансии, что подтверждает тенденцию к поиску **универсальных специалистов**.\n",
        "\n",
        "Анализ ключевых навыков показал, что в топ-6 наиболее часто упоминаемых входят **Python**, **SQL**, **Machine Learning**, **Git**, **Data Science** и **математическая статистика**. Это подтверждает, что работодатели ожидают от кандидатов владения как практическими инструментами, так и базовыми знаниями в области анализа и статистики.\n",
        "\n",
        "Вакансии и работодатели географически сконцентрированы в крупных городах: **Москва**, **Санкт-Петербург**, **Минск**, **Новосибирск** и **Алматы**. Крупнейший работодатель — **Яндекс**, который значительно опережает другие компании как по количеству вакансий, так и по географии их размещения.\n",
        "\n",
        "Также выявлены потенциальные **аномалии в данных**: наличие обобщённых регионов (например, «Россия», «Казахстан») без конкретных вакансий, а также большое количество работодателей, не указавших сферу деятельности (**35%**). Это даёт основания для **очистки и корректировки данных** перед построением рекомендательных систем."
      ]
    }
  ],
  "metadata": {
    "colab": {
      "collapsed_sections": [
        "8d62a9f3-f64e-4fe7-bdac-c4dffa16155e"
      ],
      "provenance": []
    },
    "kernelspec": {
      "display_name": "Python 3",
      "language": "python",
      "name": "python3"
    },
    "language_info": {
      "codemirror_mode": {
        "name": "ipython",
        "version": 3
      },
      "file_extension": ".py",
      "mimetype": "text/x-python",
      "name": "python",
      "nbconvert_exporter": "python",
      "pygments_lexer": "ipython3",
      "version": "3.9.6"
    }
  },
  "nbformat": 4,
  "nbformat_minor": 5
}
